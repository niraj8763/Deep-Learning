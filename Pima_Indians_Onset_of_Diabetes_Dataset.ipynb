{
  "nbformat": 4,
  "nbformat_minor": 0,
  "metadata": {
    "colab": {
      "name": "Pima Indians Onset of Diabetes Dataset.ipynb",
      "provenance": [],
      "collapsed_sections": [],
      "authorship_tag": "ABX9TyN/Vdc+gb5hkoqQelb2j6YL",
      "include_colab_link": true
    },
    "kernelspec": {
      "name": "python3",
      "display_name": "Python 3"
    }
  },
  "cells": [
    {
      "cell_type": "markdown",
      "metadata": {
        "id": "view-in-github",
        "colab_type": "text"
      },
      "source": [
        "<a href=\"https://colab.research.google.com/github/niraj8763/Deep-Learning/blob/master/Pima_Indians_Onset_of_Diabetes_Dataset.ipynb\" target=\"_parent\"><img src=\"https://colab.research.google.com/assets/colab-badge.svg\" alt=\"Open In Colab\"/></a>"
      ]
    },
    {
      "cell_type": "markdown",
      "metadata": {
        "id": "nCxUM3eN-kpf",
        "colab_type": "text"
      },
      "source": [
        "## Pima Indians Onset of Diabetes Dataset\n",
        "\n",
        "### Load Data"
      ]
    },
    {
      "cell_type": "code",
      "metadata": {
        "id": "-fPSpYFq-D2u",
        "colab_type": "code",
        "colab": {}
      },
      "source": [
        "from keras.models import Sequential\n",
        "from keras.layers import Dense\n",
        "import numpy\n",
        "seed = 7\n",
        "numpy.random.seed(seed)"
      ],
      "execution_count": 0,
      "outputs": []
    },
    {
      "cell_type": "code",
      "metadata": {
        "id": "Ln4K8AnM_x8q",
        "colab_type": "code",
        "colab": {}
      },
      "source": [
        "#Load pima indians dataset\n",
        "dataset = numpy.loadtxt('/content/sample_data/pima-indians-diabetes.csv',delimiter=',')\n",
        "#split into input (X) and output (Y) variables\n",
        "X = dataset[:,0:8]\n",
        "y = dataset[:,8]"
      ],
      "execution_count": 0,
      "outputs": []
    },
    {
      "cell_type": "markdown",
      "metadata": {
        "id": "RLF7jtssArjt",
        "colab_type": "text"
      },
      "source": [
        "### Define Model"
      ]
    },
    {
      "cell_type": "code",
      "metadata": {
        "id": "hTGE1jvGApQY",
        "colab_type": "code",
        "colab": {
          "base_uri": "https://localhost:8080/",
          "height": 152
        },
        "outputId": "c0806a9f-f215-4ac7-9bde-34c63ca65c46"
      },
      "source": [
        "# create model\n",
        "model = Sequential()\n",
        "model.add(Dense(12,input_dim = 8,init = 'uniform',activation='relu'))\n",
        "model.add(Dense(8,init = 'uniform',activation='relu'))\n",
        "model.add(Dense(1,init = 'uniform',activation = 'sigmoid'))"
      ],
      "execution_count": 7,
      "outputs": [
        {
          "output_type": "stream",
          "text": [
            "/usr/local/lib/python3.6/dist-packages/ipykernel_launcher.py:3: UserWarning: Update your `Dense` call to the Keras 2 API: `Dense(12, input_dim=8, activation=\"relu\", kernel_initializer=\"uniform\")`\n",
            "  This is separate from the ipykernel package so we can avoid doing imports until\n",
            "/usr/local/lib/python3.6/dist-packages/ipykernel_launcher.py:4: UserWarning: Update your `Dense` call to the Keras 2 API: `Dense(8, activation=\"relu\", kernel_initializer=\"uniform\")`\n",
            "  after removing the cwd from sys.path.\n",
            "/usr/local/lib/python3.6/dist-packages/ipykernel_launcher.py:5: UserWarning: Update your `Dense` call to the Keras 2 API: `Dense(1, activation=\"sigmoid\", kernel_initializer=\"uniform\")`\n",
            "  \"\"\"\n"
          ],
          "name": "stderr"
        }
      ]
    },
    {
      "cell_type": "markdown",
      "metadata": {
        "id": "GuU_HVauGIcw",
        "colab_type": "text"
      },
      "source": [
        "### Compile Model"
      ]
    },
    {
      "cell_type": "code",
      "metadata": {
        "id": "RRJFRUx-GDqt",
        "colab_type": "code",
        "colab": {}
      },
      "source": [
        "# compile model\n",
        "model.compile(loss='binary_crossentropy',optimizer='adam',metrics=['accuracy'])"
      ],
      "execution_count": 0,
      "outputs": []
    },
    {
      "cell_type": "markdown",
      "metadata": {
        "id": "anhMv6iRGosm",
        "colab_type": "text"
      },
      "source": [
        "### Fit Model"
      ]
    },
    {
      "cell_type": "code",
      "metadata": {
        "id": "z6g8cPQoGi1X",
        "colab_type": "code",
        "colab": {
          "base_uri": "https://localhost:8080/",
          "height": 1000
        },
        "outputId": "2b1852ad-d03a-49d1-c02a-7e78ffbb3bff"
      },
      "source": [
        "# Fit the model\n",
        "model.fit(X,y,nb_epoch = 150,batch_size=10)"
      ],
      "execution_count": 10,
      "outputs": [
        {
          "output_type": "stream",
          "text": [
            "/usr/local/lib/python3.6/dist-packages/ipykernel_launcher.py:2: UserWarning: The `nb_epoch` argument in `fit` has been renamed `epochs`.\n",
            "  \n"
          ],
          "name": "stderr"
        },
        {
          "output_type": "stream",
          "text": [
            "Epoch 1/150\n",
            "768/768 [==============================] - 0s 536us/step - loss: 0.6806 - accuracy: 0.6458\n",
            "Epoch 2/150\n",
            "768/768 [==============================] - 0s 126us/step - loss: 0.6635 - accuracy: 0.6510\n",
            "Epoch 3/150\n",
            "768/768 [==============================] - 0s 130us/step - loss: 0.6563 - accuracy: 0.6523\n",
            "Epoch 4/150\n",
            "768/768 [==============================] - 0s 129us/step - loss: 0.6468 - accuracy: 0.6536\n",
            "Epoch 5/150\n",
            "768/768 [==============================] - 0s 113us/step - loss: 0.6328 - accuracy: 0.6706\n",
            "Epoch 6/150\n",
            "768/768 [==============================] - 0s 112us/step - loss: 0.6243 - accuracy: 0.6536\n",
            "Epoch 7/150\n",
            "768/768 [==============================] - 0s 116us/step - loss: 0.6105 - accuracy: 0.6745\n",
            "Epoch 8/150\n",
            "768/768 [==============================] - 0s 122us/step - loss: 0.6050 - accuracy: 0.6745\n",
            "Epoch 9/150\n",
            "768/768 [==============================] - 0s 110us/step - loss: 0.6016 - accuracy: 0.6849\n",
            "Epoch 10/150\n",
            "768/768 [==============================] - 0s 111us/step - loss: 0.5965 - accuracy: 0.6784\n",
            "Epoch 11/150\n",
            "768/768 [==============================] - 0s 118us/step - loss: 0.5963 - accuracy: 0.6953\n",
            "Epoch 12/150\n",
            "768/768 [==============================] - 0s 120us/step - loss: 0.5919 - accuracy: 0.6836\n",
            "Epoch 13/150\n",
            "768/768 [==============================] - 0s 111us/step - loss: 0.5802 - accuracy: 0.7122\n",
            "Epoch 14/150\n",
            "768/768 [==============================] - 0s 113us/step - loss: 0.5865 - accuracy: 0.6992\n",
            "Epoch 15/150\n",
            "768/768 [==============================] - 0s 116us/step - loss: 0.5842 - accuracy: 0.6888\n",
            "Epoch 16/150\n",
            "768/768 [==============================] - 0s 112us/step - loss: 0.5829 - accuracy: 0.7018\n",
            "Epoch 17/150\n",
            "768/768 [==============================] - 0s 109us/step - loss: 0.5835 - accuracy: 0.7031\n",
            "Epoch 18/150\n",
            "768/768 [==============================] - 0s 110us/step - loss: 0.5876 - accuracy: 0.6979\n",
            "Epoch 19/150\n",
            "768/768 [==============================] - 0s 111us/step - loss: 0.5766 - accuracy: 0.7044\n",
            "Epoch 20/150\n",
            "768/768 [==============================] - 0s 118us/step - loss: 0.5778 - accuracy: 0.7018\n",
            "Epoch 21/150\n",
            "768/768 [==============================] - 0s 109us/step - loss: 0.5776 - accuracy: 0.6875\n",
            "Epoch 22/150\n",
            "768/768 [==============================] - 0s 111us/step - loss: 0.5826 - accuracy: 0.6940\n",
            "Epoch 23/150\n",
            "768/768 [==============================] - 0s 135us/step - loss: 0.5740 - accuracy: 0.6927\n",
            "Epoch 24/150\n",
            "768/768 [==============================] - 0s 132us/step - loss: 0.5704 - accuracy: 0.7031\n",
            "Epoch 25/150\n",
            "768/768 [==============================] - 0s 117us/step - loss: 0.5746 - accuracy: 0.6992\n",
            "Epoch 26/150\n",
            "768/768 [==============================] - 0s 128us/step - loss: 0.5726 - accuracy: 0.7044\n",
            "Epoch 27/150\n",
            "768/768 [==============================] - 0s 128us/step - loss: 0.5728 - accuracy: 0.7083\n",
            "Epoch 28/150\n",
            "768/768 [==============================] - 0s 132us/step - loss: 0.5675 - accuracy: 0.7148\n",
            "Epoch 29/150\n",
            "768/768 [==============================] - 0s 110us/step - loss: 0.5755 - accuracy: 0.7044\n",
            "Epoch 30/150\n",
            "768/768 [==============================] - 0s 122us/step - loss: 0.5699 - accuracy: 0.7201\n",
            "Epoch 31/150\n",
            "768/768 [==============================] - 0s 118us/step - loss: 0.5636 - accuracy: 0.7174\n",
            "Epoch 32/150\n",
            "768/768 [==============================] - 0s 129us/step - loss: 0.5620 - accuracy: 0.7227\n",
            "Epoch 33/150\n",
            "768/768 [==============================] - 0s 134us/step - loss: 0.5619 - accuracy: 0.7057\n",
            "Epoch 34/150\n",
            "768/768 [==============================] - 0s 131us/step - loss: 0.5710 - accuracy: 0.7201\n",
            "Epoch 35/150\n",
            "768/768 [==============================] - 0s 119us/step - loss: 0.5615 - accuracy: 0.7161\n",
            "Epoch 36/150\n",
            "768/768 [==============================] - 0s 112us/step - loss: 0.5580 - accuracy: 0.7279\n",
            "Epoch 37/150\n",
            "768/768 [==============================] - 0s 111us/step - loss: 0.5557 - accuracy: 0.7214\n",
            "Epoch 38/150\n",
            "768/768 [==============================] - 0s 112us/step - loss: 0.5507 - accuracy: 0.7383\n",
            "Epoch 39/150\n",
            "768/768 [==============================] - 0s 122us/step - loss: 0.5528 - accuracy: 0.7357\n",
            "Epoch 40/150\n",
            "768/768 [==============================] - 0s 109us/step - loss: 0.5526 - accuracy: 0.7318\n",
            "Epoch 41/150\n",
            "768/768 [==============================] - 0s 117us/step - loss: 0.5476 - accuracy: 0.7331\n",
            "Epoch 42/150\n",
            "768/768 [==============================] - 0s 130us/step - loss: 0.5471 - accuracy: 0.7344\n",
            "Epoch 43/150\n",
            "768/768 [==============================] - 0s 132us/step - loss: 0.5472 - accuracy: 0.7331\n",
            "Epoch 44/150\n",
            "768/768 [==============================] - 0s 157us/step - loss: 0.5416 - accuracy: 0.7396\n",
            "Epoch 45/150\n",
            "768/768 [==============================] - 0s 136us/step - loss: 0.5397 - accuracy: 0.7422\n",
            "Epoch 46/150\n",
            "768/768 [==============================] - 0s 169us/step - loss: 0.5360 - accuracy: 0.7331\n",
            "Epoch 47/150\n",
            "768/768 [==============================] - 0s 128us/step - loss: 0.5356 - accuracy: 0.7344\n",
            "Epoch 48/150\n",
            "768/768 [==============================] - 0s 134us/step - loss: 0.5340 - accuracy: 0.7422\n",
            "Epoch 49/150\n",
            "768/768 [==============================] - 0s 122us/step - loss: 0.5354 - accuracy: 0.7435\n",
            "Epoch 50/150\n",
            "768/768 [==============================] - 0s 149us/step - loss: 0.5341 - accuracy: 0.7396\n",
            "Epoch 51/150\n",
            "768/768 [==============================] - 0s 128us/step - loss: 0.5248 - accuracy: 0.7474\n",
            "Epoch 52/150\n",
            "768/768 [==============================] - 0s 133us/step - loss: 0.5309 - accuracy: 0.7422\n",
            "Epoch 53/150\n",
            "768/768 [==============================] - 0s 118us/step - loss: 0.5286 - accuracy: 0.7422\n",
            "Epoch 54/150\n",
            "768/768 [==============================] - 0s 141us/step - loss: 0.5340 - accuracy: 0.7370\n",
            "Epoch 55/150\n",
            "768/768 [==============================] - 0s 124us/step - loss: 0.5221 - accuracy: 0.7526\n",
            "Epoch 56/150\n",
            "768/768 [==============================] - 0s 166us/step - loss: 0.5222 - accuracy: 0.7422\n",
            "Epoch 57/150\n",
            "768/768 [==============================] - 0s 143us/step - loss: 0.5216 - accuracy: 0.7435\n",
            "Epoch 58/150\n",
            "768/768 [==============================] - 0s 118us/step - loss: 0.5240 - accuracy: 0.7409\n",
            "Epoch 59/150\n",
            "768/768 [==============================] - 0s 128us/step - loss: 0.5222 - accuracy: 0.7461\n",
            "Epoch 60/150\n",
            "768/768 [==============================] - 0s 148us/step - loss: 0.5187 - accuracy: 0.7435\n",
            "Epoch 61/150\n",
            "768/768 [==============================] - 0s 129us/step - loss: 0.5235 - accuracy: 0.7552\n",
            "Epoch 62/150\n",
            "768/768 [==============================] - 0s 120us/step - loss: 0.5143 - accuracy: 0.7461\n",
            "Epoch 63/150\n",
            "768/768 [==============================] - 0s 127us/step - loss: 0.5125 - accuracy: 0.7487\n",
            "Epoch 64/150\n",
            "768/768 [==============================] - 0s 120us/step - loss: 0.5204 - accuracy: 0.7435\n",
            "Epoch 65/150\n",
            "768/768 [==============================] - 0s 128us/step - loss: 0.5163 - accuracy: 0.7565\n",
            "Epoch 66/150\n",
            "768/768 [==============================] - 0s 116us/step - loss: 0.5104 - accuracy: 0.7526\n",
            "Epoch 67/150\n",
            "768/768 [==============================] - 0s 130us/step - loss: 0.5140 - accuracy: 0.7383\n",
            "Epoch 68/150\n",
            "768/768 [==============================] - 0s 164us/step - loss: 0.5089 - accuracy: 0.7461\n",
            "Epoch 69/150\n",
            "768/768 [==============================] - 0s 117us/step - loss: 0.5076 - accuracy: 0.7513\n",
            "Epoch 70/150\n",
            "768/768 [==============================] - 0s 127us/step - loss: 0.5039 - accuracy: 0.7682\n",
            "Epoch 71/150\n",
            "768/768 [==============================] - 0s 122us/step - loss: 0.5032 - accuracy: 0.7565\n",
            "Epoch 72/150\n",
            "768/768 [==============================] - 0s 113us/step - loss: 0.5060 - accuracy: 0.7617\n",
            "Epoch 73/150\n",
            "768/768 [==============================] - 0s 141us/step - loss: 0.5053 - accuracy: 0.7578\n",
            "Epoch 74/150\n",
            "768/768 [==============================] - 0s 137us/step - loss: 0.5053 - accuracy: 0.7500\n",
            "Epoch 75/150\n",
            "768/768 [==============================] - 0s 124us/step - loss: 0.5041 - accuracy: 0.7448\n",
            "Epoch 76/150\n",
            "768/768 [==============================] - 0s 122us/step - loss: 0.5054 - accuracy: 0.7500\n",
            "Epoch 77/150\n",
            "768/768 [==============================] - 0s 120us/step - loss: 0.4972 - accuracy: 0.7617\n",
            "Epoch 78/150\n",
            "768/768 [==============================] - 0s 114us/step - loss: 0.5074 - accuracy: 0.7409\n",
            "Epoch 79/150\n",
            "768/768 [==============================] - 0s 120us/step - loss: 0.4964 - accuracy: 0.7604\n",
            "Epoch 80/150\n",
            "768/768 [==============================] - 0s 116us/step - loss: 0.5045 - accuracy: 0.7539\n",
            "Epoch 81/150\n",
            "768/768 [==============================] - 0s 119us/step - loss: 0.4965 - accuracy: 0.7591\n",
            "Epoch 82/150\n",
            "768/768 [==============================] - 0s 124us/step - loss: 0.5006 - accuracy: 0.7643\n",
            "Epoch 83/150\n",
            "768/768 [==============================] - 0s 117us/step - loss: 0.4980 - accuracy: 0.7461\n",
            "Epoch 84/150\n",
            "768/768 [==============================] - 0s 130us/step - loss: 0.4938 - accuracy: 0.7643\n",
            "Epoch 85/150\n",
            "768/768 [==============================] - 0s 118us/step - loss: 0.5024 - accuracy: 0.7552\n",
            "Epoch 86/150\n",
            "768/768 [==============================] - 0s 116us/step - loss: 0.5030 - accuracy: 0.7604\n",
            "Epoch 87/150\n",
            "768/768 [==============================] - 0s 121us/step - loss: 0.4936 - accuracy: 0.7630\n",
            "Epoch 88/150\n",
            "768/768 [==============================] - 0s 125us/step - loss: 0.4895 - accuracy: 0.7643\n",
            "Epoch 89/150\n",
            "768/768 [==============================] - 0s 117us/step - loss: 0.4975 - accuracy: 0.7604\n",
            "Epoch 90/150\n",
            "768/768 [==============================] - 0s 113us/step - loss: 0.4883 - accuracy: 0.7617\n",
            "Epoch 91/150\n",
            "768/768 [==============================] - 0s 117us/step - loss: 0.4878 - accuracy: 0.7656\n",
            "Epoch 92/150\n",
            "768/768 [==============================] - 0s 132us/step - loss: 0.4994 - accuracy: 0.7487\n",
            "Epoch 93/150\n",
            "768/768 [==============================] - 0s 119us/step - loss: 0.4874 - accuracy: 0.7721\n",
            "Epoch 94/150\n",
            "768/768 [==============================] - 0s 116us/step - loss: 0.4874 - accuracy: 0.7630\n",
            "Epoch 95/150\n",
            "768/768 [==============================] - 0s 128us/step - loss: 0.4889 - accuracy: 0.7643\n",
            "Epoch 96/150\n",
            "768/768 [==============================] - 0s 125us/step - loss: 0.4881 - accuracy: 0.7669\n",
            "Epoch 97/150\n",
            "768/768 [==============================] - 0s 140us/step - loss: 0.4916 - accuracy: 0.7630\n",
            "Epoch 98/150\n",
            "768/768 [==============================] - 0s 117us/step - loss: 0.4940 - accuracy: 0.7565\n",
            "Epoch 99/150\n",
            "768/768 [==============================] - 0s 128us/step - loss: 0.4943 - accuracy: 0.7604\n",
            "Epoch 100/150\n",
            "768/768 [==============================] - 0s 114us/step - loss: 0.4879 - accuracy: 0.7630\n",
            "Epoch 101/150\n",
            "768/768 [==============================] - 0s 125us/step - loss: 0.4798 - accuracy: 0.7630\n",
            "Epoch 102/150\n",
            "768/768 [==============================] - 0s 111us/step - loss: 0.4850 - accuracy: 0.7591\n",
            "Epoch 103/150\n",
            "768/768 [==============================] - 0s 116us/step - loss: 0.4863 - accuracy: 0.7591\n",
            "Epoch 104/150\n",
            "768/768 [==============================] - 0s 113us/step - loss: 0.4788 - accuracy: 0.7643\n",
            "Epoch 105/150\n",
            "768/768 [==============================] - 0s 126us/step - loss: 0.4832 - accuracy: 0.7643\n",
            "Epoch 106/150\n",
            "768/768 [==============================] - 0s 123us/step - loss: 0.4805 - accuracy: 0.7656\n",
            "Epoch 107/150\n",
            "768/768 [==============================] - 0s 117us/step - loss: 0.4836 - accuracy: 0.7682\n",
            "Epoch 108/150\n",
            "768/768 [==============================] - 0s 114us/step - loss: 0.4845 - accuracy: 0.7630\n",
            "Epoch 109/150\n",
            "768/768 [==============================] - 0s 120us/step - loss: 0.4792 - accuracy: 0.7682\n",
            "Epoch 110/150\n",
            "768/768 [==============================] - 0s 116us/step - loss: 0.4768 - accuracy: 0.7799\n",
            "Epoch 111/150\n",
            "768/768 [==============================] - 0s 109us/step - loss: 0.4788 - accuracy: 0.7643\n",
            "Epoch 112/150\n",
            "768/768 [==============================] - 0s 120us/step - loss: 0.4796 - accuracy: 0.7734\n",
            "Epoch 113/150\n",
            "768/768 [==============================] - 0s 113us/step - loss: 0.4746 - accuracy: 0.7526\n",
            "Epoch 114/150\n",
            "768/768 [==============================] - 0s 117us/step - loss: 0.4766 - accuracy: 0.7747\n",
            "Epoch 115/150\n",
            "768/768 [==============================] - 0s 117us/step - loss: 0.4783 - accuracy: 0.7682\n",
            "Epoch 116/150\n",
            "768/768 [==============================] - 0s 126us/step - loss: 0.4808 - accuracy: 0.7565\n",
            "Epoch 117/150\n",
            "768/768 [==============================] - 0s 117us/step - loss: 0.4777 - accuracy: 0.7669\n",
            "Epoch 118/150\n",
            "768/768 [==============================] - 0s 122us/step - loss: 0.4833 - accuracy: 0.7682\n",
            "Epoch 119/150\n",
            "768/768 [==============================] - 0s 111us/step - loss: 0.4733 - accuracy: 0.7760\n",
            "Epoch 120/150\n",
            "768/768 [==============================] - 0s 127us/step - loss: 0.4764 - accuracy: 0.7669\n",
            "Epoch 121/150\n",
            "768/768 [==============================] - 0s 114us/step - loss: 0.4787 - accuracy: 0.7643\n",
            "Epoch 122/150\n",
            "768/768 [==============================] - 0s 124us/step - loss: 0.4712 - accuracy: 0.7721\n",
            "Epoch 123/150\n",
            "768/768 [==============================] - 0s 112us/step - loss: 0.4732 - accuracy: 0.7630\n",
            "Epoch 124/150\n",
            "768/768 [==============================] - 0s 127us/step - loss: 0.4684 - accuracy: 0.7799\n",
            "Epoch 125/150\n",
            "768/768 [==============================] - 0s 114us/step - loss: 0.4693 - accuracy: 0.7773\n",
            "Epoch 126/150\n",
            "768/768 [==============================] - 0s 118us/step - loss: 0.4718 - accuracy: 0.7643\n",
            "Epoch 127/150\n",
            "768/768 [==============================] - 0s 109us/step - loss: 0.4699 - accuracy: 0.7852\n",
            "Epoch 128/150\n",
            "768/768 [==============================] - 0s 128us/step - loss: 0.4670 - accuracy: 0.7760\n",
            "Epoch 129/150\n",
            "768/768 [==============================] - 0s 126us/step - loss: 0.4630 - accuracy: 0.7669\n",
            "Epoch 130/150\n",
            "768/768 [==============================] - 0s 119us/step - loss: 0.4695 - accuracy: 0.7617\n",
            "Epoch 131/150\n",
            "768/768 [==============================] - 0s 116us/step - loss: 0.4689 - accuracy: 0.7799\n",
            "Epoch 132/150\n",
            "768/768 [==============================] - 0s 117us/step - loss: 0.4684 - accuracy: 0.7786\n",
            "Epoch 133/150\n",
            "768/768 [==============================] - 0s 117us/step - loss: 0.4715 - accuracy: 0.7773\n",
            "Epoch 134/150\n",
            "768/768 [==============================] - 0s 112us/step - loss: 0.4622 - accuracy: 0.7773\n",
            "Epoch 135/150\n",
            "768/768 [==============================] - 0s 132us/step - loss: 0.4642 - accuracy: 0.7747\n",
            "Epoch 136/150\n",
            "768/768 [==============================] - 0s 115us/step - loss: 0.4678 - accuracy: 0.7721\n",
            "Epoch 137/150\n",
            "768/768 [==============================] - 0s 111us/step - loss: 0.4606 - accuracy: 0.7826\n",
            "Epoch 138/150\n",
            "768/768 [==============================] - 0s 114us/step - loss: 0.4656 - accuracy: 0.7773\n",
            "Epoch 139/150\n",
            "768/768 [==============================] - 0s 128us/step - loss: 0.4666 - accuracy: 0.7799\n",
            "Epoch 140/150\n",
            "768/768 [==============================] - 0s 127us/step - loss: 0.4708 - accuracy: 0.7695\n",
            "Epoch 141/150\n",
            "768/768 [==============================] - 0s 120us/step - loss: 0.4649 - accuracy: 0.7799\n",
            "Epoch 142/150\n",
            "768/768 [==============================] - 0s 115us/step - loss: 0.4631 - accuracy: 0.7734\n",
            "Epoch 143/150\n",
            "768/768 [==============================] - 0s 111us/step - loss: 0.4629 - accuracy: 0.7734\n",
            "Epoch 144/150\n",
            "768/768 [==============================] - 0s 114us/step - loss: 0.4581 - accuracy: 0.7917\n",
            "Epoch 145/150\n",
            "768/768 [==============================] - 0s 110us/step - loss: 0.4636 - accuracy: 0.7734\n",
            "Epoch 146/150\n",
            "768/768 [==============================] - 0s 116us/step - loss: 0.4684 - accuracy: 0.7760\n",
            "Epoch 147/150\n",
            "768/768 [==============================] - 0s 113us/step - loss: 0.4651 - accuracy: 0.7760\n",
            "Epoch 148/150\n",
            "768/768 [==============================] - 0s 112us/step - loss: 0.4593 - accuracy: 0.7839\n",
            "Epoch 149/150\n",
            "768/768 [==============================] - 0s 114us/step - loss: 0.4738 - accuracy: 0.7656\n",
            "Epoch 150/150\n",
            "768/768 [==============================] - 0s 116us/step - loss: 0.4642 - accuracy: 0.7656\n"
          ],
          "name": "stdout"
        },
        {
          "output_type": "execute_result",
          "data": {
            "text/plain": [
              "<keras.callbacks.callbacks.History at 0x7f3a8bc65ba8>"
            ]
          },
          "metadata": {
            "tags": []
          },
          "execution_count": 10
        }
      ]
    },
    {
      "cell_type": "markdown",
      "metadata": {
        "id": "MLh5_wuaJB4R",
        "colab_type": "text"
      },
      "source": [
        "## Evaluate Model"
      ]
    },
    {
      "cell_type": "code",
      "metadata": {
        "id": "MlOuZ7LQHm_K",
        "colab_type": "code",
        "colab": {
          "base_uri": "https://localhost:8080/",
          "height": 55
        },
        "outputId": "98ba3181-49a4-422f-f8fb-8a4b87b9e15c"
      },
      "source": [
        "#evaluate the model\n",
        "scores = model.evaluate(X,y)\n",
        "print(\"%s: %.2f%%\" %(model.metrics_names[1],scores[1]*100))"
      ],
      "execution_count": 11,
      "outputs": [
        {
          "output_type": "stream",
          "text": [
            "768/768 [==============================] - 0s 52us/step\n",
            "accuracy: 78.65%\n"
          ],
          "name": "stdout"
        }
      ]
    },
    {
      "cell_type": "code",
      "metadata": {
        "id": "5JylGguz_E7K",
        "colab_type": "code",
        "colab": {}
      },
      "source": [
        ""
      ],
      "execution_count": 0,
      "outputs": []
    }
  ]
}