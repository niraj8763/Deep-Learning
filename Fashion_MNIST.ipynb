{
  "nbformat": 4,
  "nbformat_minor": 0,
  "metadata": {
    "colab": {
      "name": "Fashion MNIST.ipynb",
      "provenance": []
    },
    "kernelspec": {
      "name": "python3",
      "display_name": "Python 3"
    }
  },
  "cells": [
    {
      "cell_type": "markdown",
      "metadata": {
        "id": "eQFlapE2_L_9",
        "colab_type": "text"
      },
      "source": [
        "Using Keras to Load the Dataset"
      ]
    },
    {
      "cell_type": "code",
      "metadata": {
        "id": "bMQzcjUi_7Zh",
        "colab_type": "code",
        "outputId": "d6e99bc1-b0bd-4cf7-b751-0efa1331a058",
        "colab": {
          "base_uri": "https://localhost:8080/",
          "height": 36
        }
      },
      "source": [
        "import keras"
      ],
      "execution_count": 0,
      "outputs": [
        {
          "output_type": "stream",
          "text": [
            "Using TensorFlow backend.\n"
          ],
          "name": "stderr"
        }
      ]
    },
    {
      "cell_type": "code",
      "metadata": {
        "id": "NVR0BlZZ-6Lb",
        "colab_type": "code",
        "outputId": "1a806a19-0b4b-4f3b-e0e0-c36b7a6e6567",
        "colab": {
          "base_uri": "https://localhost:8080/",
          "height": 190
        }
      },
      "source": [
        "fashion_mnist = keras.datasets.fashion_mnist\n",
        "(X_train_full,y_train_full),(X_test,y_test)  = fashion_mnist.load_data()"
      ],
      "execution_count": 0,
      "outputs": [
        {
          "output_type": "stream",
          "text": [
            "Downloading data from http://fashion-mnist.s3-website.eu-central-1.amazonaws.com/train-labels-idx1-ubyte.gz\n",
            "32768/29515 [=================================] - 0s 4us/step\n",
            "Downloading data from http://fashion-mnist.s3-website.eu-central-1.amazonaws.com/train-images-idx3-ubyte.gz\n",
            "26427392/26421880 [==============================] - 2s 0us/step\n",
            "Downloading data from http://fashion-mnist.s3-website.eu-central-1.amazonaws.com/t10k-labels-idx1-ubyte.gz\n",
            "8192/5148 [===============================================] - 0s 0us/step\n",
            "Downloading data from http://fashion-mnist.s3-website.eu-central-1.amazonaws.com/t10k-images-idx3-ubyte.gz\n",
            "4423680/4422102 [==============================] - 1s 0us/step\n"
          ],
          "name": "stdout"
        }
      ]
    },
    {
      "cell_type": "markdown",
      "metadata": {
        "id": "k-VwN5vQARsr",
        "colab_type": "text"
      },
      "source": [
        "shape"
      ]
    },
    {
      "cell_type": "code",
      "metadata": {
        "id": "7dG9HdYRACmf",
        "colab_type": "code",
        "outputId": "f47004c5-b0c0-4caa-d94a-801e1e40f3be",
        "colab": {
          "base_uri": "https://localhost:8080/",
          "height": 36
        }
      },
      "source": [
        "X_train_full.shape"
      ],
      "execution_count": 0,
      "outputs": [
        {
          "output_type": "execute_result",
          "data": {
            "text/plain": [
              "(60000, 28, 28)"
            ]
          },
          "metadata": {
            "tags": []
          },
          "execution_count": 3
        }
      ]
    },
    {
      "cell_type": "code",
      "metadata": {
        "id": "LSx3W2wyAZvG",
        "colab_type": "code",
        "outputId": "04933135-4ab4-47b7-a230-efb1444ddb6b",
        "colab": {
          "base_uri": "https://localhost:8080/",
          "height": 36
        }
      },
      "source": [
        "X_train_full.dtype"
      ],
      "execution_count": 0,
      "outputs": [
        {
          "output_type": "execute_result",
          "data": {
            "text/plain": [
              "dtype('uint8')"
            ]
          },
          "metadata": {
            "tags": []
          },
          "execution_count": 4
        }
      ]
    },
    {
      "cell_type": "markdown",
      "metadata": {
        "id": "GSVKRNPpUVGZ",
        "colab_type": "text"
      },
      "source": [
        "scale the pixel intensities down to the 0-1 range by dividing them by 255.0 "
      ]
    },
    {
      "cell_type": "code",
      "metadata": {
        "id": "b02v4dayAjuv",
        "colab_type": "code",
        "colab": {}
      },
      "source": [
        "X_valid, X_train = X_train_full[:5000] / 255.0, X_train_full[5000:] / 255.0\n",
        "y_valid, y_train = y_train_full[:5000], y_train_full[5000:]"
      ],
      "execution_count": 0,
      "outputs": []
    },
    {
      "cell_type": "markdown",
      "metadata": {
        "id": "0pxf21rKUiof",
        "colab_type": "text"
      },
      "source": [
        "Class Names\n"
      ]
    },
    {
      "cell_type": "code",
      "metadata": {
        "id": "5hUYbnYgUZ5P",
        "colab_type": "code",
        "colab": {}
      },
      "source": [
        "class_names = [\"T-shirt/top\", \"Trouser\", \"Pullover\", \"Dress\", \"Coat\",\n",
        " \"Sandal\", \"Shirt\", \"Sneaker\", \"Bag\", \"Ankle boot\"]"
      ],
      "execution_count": 0,
      "outputs": []
    },
    {
      "cell_type": "code",
      "metadata": {
        "id": "yBS_aZ7KUpEo",
        "colab_type": "code",
        "outputId": "50fc35b7-2128-465a-d1c7-f4f82332bc7f",
        "colab": {
          "base_uri": "https://localhost:8080/",
          "height": 36
        }
      },
      "source": [
        "class_names[y_train[0]]"
      ],
      "execution_count": 0,
      "outputs": [
        {
          "output_type": "execute_result",
          "data": {
            "text/plain": [
              "'Coat'"
            ]
          },
          "metadata": {
            "tags": []
          },
          "execution_count": 7
        }
      ]
    },
    {
      "cell_type": "markdown",
      "metadata": {
        "id": "L9-WcV3DU4hp",
        "colab_type": "text"
      },
      "source": [
        "Creating the Model Using the Sequential API"
      ]
    },
    {
      "cell_type": "code",
      "metadata": {
        "id": "OXZaJVJHU0Qt",
        "colab_type": "code",
        "colab": {}
      },
      "source": [
        "model = keras.models.Sequential()\n",
        "model.add(keras.layers.Flatten(input_shape=[28,28]))\n",
        "model.add(keras.layers.Dense(300,activation='relu'))\n",
        "model.add(keras.layers.Dense(100,activation='relu'))\n",
        "model.add(keras.layers.Dense(10,activation='softmax'))"
      ],
      "execution_count": 0,
      "outputs": []
    },
    {
      "cell_type": "code",
      "metadata": {
        "id": "PuVVT9CMVzff",
        "colab_type": "code",
        "outputId": "e34c1ac9-3a19-48c7-82bb-d9857b9978a3",
        "colab": {
          "base_uri": "https://localhost:8080/",
          "height": 323
        }
      },
      "source": [
        "model.summary()"
      ],
      "execution_count": 0,
      "outputs": [
        {
          "output_type": "stream",
          "text": [
            "Model: \"sequential_1\"\n",
            "_________________________________________________________________\n",
            "Layer (type)                 Output Shape              Param #   \n",
            "=================================================================\n",
            "flatten_1 (Flatten)          (None, 784)               0         \n",
            "_________________________________________________________________\n",
            "dense_1 (Dense)              (None, 300)               235500    \n",
            "_________________________________________________________________\n",
            "dense_2 (Dense)              (None, 100)               30100     \n",
            "_________________________________________________________________\n",
            "dense_3 (Dense)              (None, 10)                1010      \n",
            "=================================================================\n",
            "Total params: 266,610\n",
            "Trainable params: 266,610\n",
            "Non-trainable params: 0\n",
            "_________________________________________________________________\n"
          ],
          "name": "stdout"
        }
      ]
    },
    {
      "cell_type": "code",
      "metadata": {
        "id": "su8Z-7TXXsKC",
        "colab_type": "code",
        "outputId": "e709ad60-d15a-42a4-d448-3908e221e1da",
        "colab": {
          "base_uri": "https://localhost:8080/",
          "height": 94
        }
      },
      "source": [
        "model.layers"
      ],
      "execution_count": 0,
      "outputs": [
        {
          "output_type": "execute_result",
          "data": {
            "text/plain": [
              "[<keras.layers.core.Flatten at 0x7faf109f0e48>,\n",
              " <keras.layers.core.Dense at 0x7faf10a07320>,\n",
              " <keras.layers.core.Dense at 0x7faf10a07470>,\n",
              " <keras.layers.core.Dense at 0x7faf10a07cc0>]"
            ]
          },
          "metadata": {
            "tags": []
          },
          "execution_count": 10
        }
      ]
    },
    {
      "cell_type": "code",
      "metadata": {
        "id": "f3Kafx9sYKHs",
        "colab_type": "code",
        "outputId": "c44544f3-676b-4092-c569-d65cb28d093e",
        "colab": {
          "base_uri": "https://localhost:8080/",
          "height": 36
        }
      },
      "source": [
        "model.layers[1].name"
      ],
      "execution_count": 0,
      "outputs": [
        {
          "output_type": "execute_result",
          "data": {
            "text/plain": [
              "'dense_1'"
            ]
          },
          "metadata": {
            "tags": []
          },
          "execution_count": 11
        }
      ]
    },
    {
      "cell_type": "code",
      "metadata": {
        "id": "ZHlqRG0hYXd1",
        "colab_type": "code",
        "outputId": "cdcead99-280f-480e-8233-133b419569a7",
        "colab": {
          "base_uri": "https://localhost:8080/",
          "height": 36
        }
      },
      "source": [
        "model.get_layer('dense_3').name"
      ],
      "execution_count": 0,
      "outputs": [
        {
          "output_type": "execute_result",
          "data": {
            "text/plain": [
              "'dense_3'"
            ]
          },
          "metadata": {
            "tags": []
          },
          "execution_count": 12
        }
      ]
    },
    {
      "cell_type": "markdown",
      "metadata": {
        "id": "SiLaS5MVPFJY",
        "colab_type": "text"
      },
      "source": [
        "Compiling the model"
      ]
    },
    {
      "cell_type": "code",
      "metadata": {
        "id": "XKwEFIK6YyOY",
        "colab_type": "code",
        "colab": {}
      },
      "source": [
        "model.compile(loss=\"sparse_categorical_crossentropy\",\n",
        " optimizer=\"sgd\",\n",
        " metrics=[\"accuracy\"])"
      ],
      "execution_count": 0,
      "outputs": []
    },
    {
      "cell_type": "markdown",
      "metadata": {
        "id": "s3HKesGjRGuI",
        "colab_type": "text"
      },
      "source": [
        "Training and Evaluating the Model"
      ]
    },
    {
      "cell_type": "code",
      "metadata": {
        "id": "sQZs-tdtaoGH",
        "colab_type": "code",
        "outputId": "ca2cf0b7-2b0e-4e81-a476-039776f4151b",
        "colab": {
          "base_uri": "https://localhost:8080/",
          "height": 1000
        }
      },
      "source": [
        "history = model.fit(X_train, y_train, epochs=30,validation_data=(X_valid, y_valid))"
      ],
      "execution_count": 0,
      "outputs": [
        {
          "output_type": "stream",
          "text": [
            "Train on 55000 samples, validate on 5000 samples\n",
            "Epoch 1/30\n",
            "55000/55000 [==============================] - 6s 105us/step - loss: 0.7288 - accuracy: 0.7605 - val_loss: 0.5105 - val_accuracy: 0.8340\n",
            "Epoch 2/30\n",
            "55000/55000 [==============================] - 6s 101us/step - loss: 0.4923 - accuracy: 0.8287 - val_loss: 0.4710 - val_accuracy: 0.8398\n",
            "Epoch 3/30\n",
            "55000/55000 [==============================] - 5s 99us/step - loss: 0.4467 - accuracy: 0.8444 - val_loss: 0.4133 - val_accuracy: 0.8602\n",
            "Epoch 4/30\n",
            "55000/55000 [==============================] - 5s 99us/step - loss: 0.4190 - accuracy: 0.8530 - val_loss: 0.4076 - val_accuracy: 0.8574\n",
            "Epoch 5/30\n",
            "55000/55000 [==============================] - 6s 100us/step - loss: 0.3973 - accuracy: 0.8607 - val_loss: 0.3899 - val_accuracy: 0.8646\n",
            "Epoch 6/30\n",
            "55000/55000 [==============================] - 5s 99us/step - loss: 0.3820 - accuracy: 0.8655 - val_loss: 0.3720 - val_accuracy: 0.8694\n",
            "Epoch 7/30\n",
            "55000/55000 [==============================] - 5s 99us/step - loss: 0.3688 - accuracy: 0.8675 - val_loss: 0.3692 - val_accuracy: 0.8744\n",
            "Epoch 8/30\n",
            "55000/55000 [==============================] - 6s 100us/step - loss: 0.3563 - accuracy: 0.8747 - val_loss: 0.3598 - val_accuracy: 0.8734\n",
            "Epoch 9/30\n",
            "55000/55000 [==============================] - 5s 100us/step - loss: 0.3454 - accuracy: 0.8767 - val_loss: 0.3612 - val_accuracy: 0.8732\n",
            "Epoch 10/30\n",
            "55000/55000 [==============================] - 5s 99us/step - loss: 0.3370 - accuracy: 0.8811 - val_loss: 0.3617 - val_accuracy: 0.8714\n",
            "Epoch 11/30\n",
            "55000/55000 [==============================] - 5s 100us/step - loss: 0.3278 - accuracy: 0.8846 - val_loss: 0.3381 - val_accuracy: 0.8812\n",
            "Epoch 12/30\n",
            "55000/55000 [==============================] - 5s 100us/step - loss: 0.3200 - accuracy: 0.8865 - val_loss: 0.3366 - val_accuracy: 0.8788\n",
            "Epoch 13/30\n",
            "55000/55000 [==============================] - 5s 99us/step - loss: 0.3115 - accuracy: 0.8883 - val_loss: 0.3345 - val_accuracy: 0.8826\n",
            "Epoch 14/30\n",
            "55000/55000 [==============================] - 5s 99us/step - loss: 0.3050 - accuracy: 0.8908 - val_loss: 0.3303 - val_accuracy: 0.8808\n",
            "Epoch 15/30\n",
            "55000/55000 [==============================] - 5s 98us/step - loss: 0.2987 - accuracy: 0.8926 - val_loss: 0.3162 - val_accuracy: 0.8880\n",
            "Epoch 16/30\n",
            "55000/55000 [==============================] - 6s 101us/step - loss: 0.2922 - accuracy: 0.8960 - val_loss: 0.3106 - val_accuracy: 0.8906\n",
            "Epoch 17/30\n",
            "55000/55000 [==============================] - 5s 99us/step - loss: 0.2858 - accuracy: 0.8974 - val_loss: 0.3140 - val_accuracy: 0.8858\n",
            "Epoch 18/30\n",
            "55000/55000 [==============================] - 5s 99us/step - loss: 0.2805 - accuracy: 0.8990 - val_loss: 0.3094 - val_accuracy: 0.8872\n",
            "Epoch 19/30\n",
            "55000/55000 [==============================] - 5s 98us/step - loss: 0.2763 - accuracy: 0.9002 - val_loss: 0.3109 - val_accuracy: 0.8864\n",
            "Epoch 20/30\n",
            "55000/55000 [==============================] - 5s 100us/step - loss: 0.2704 - accuracy: 0.9027 - val_loss: 0.3041 - val_accuracy: 0.8912\n",
            "Epoch 21/30\n",
            "55000/55000 [==============================] - 5s 99us/step - loss: 0.2650 - accuracy: 0.9037 - val_loss: 0.3248 - val_accuracy: 0.8838\n",
            "Epoch 22/30\n",
            "55000/55000 [==============================] - 5s 98us/step - loss: 0.2601 - accuracy: 0.9067 - val_loss: 0.3051 - val_accuracy: 0.8908\n",
            "Epoch 23/30\n",
            "55000/55000 [==============================] - 5s 98us/step - loss: 0.2564 - accuracy: 0.9081 - val_loss: 0.3032 - val_accuracy: 0.8924\n",
            "Epoch 24/30\n",
            "55000/55000 [==============================] - 5s 99us/step - loss: 0.2513 - accuracy: 0.9093 - val_loss: 0.3043 - val_accuracy: 0.8916\n",
            "Epoch 25/30\n",
            "55000/55000 [==============================] - 5s 98us/step - loss: 0.2455 - accuracy: 0.9122 - val_loss: 0.2947 - val_accuracy: 0.8930\n",
            "Epoch 26/30\n",
            "55000/55000 [==============================] - 5s 98us/step - loss: 0.2431 - accuracy: 0.9130 - val_loss: 0.3025 - val_accuracy: 0.8904\n",
            "Epoch 27/30\n",
            "55000/55000 [==============================] - 6s 101us/step - loss: 0.2391 - accuracy: 0.9144 - val_loss: 0.2969 - val_accuracy: 0.8902\n",
            "Epoch 28/30\n",
            "55000/55000 [==============================] - 5s 100us/step - loss: 0.2351 - accuracy: 0.9156 - val_loss: 0.3024 - val_accuracy: 0.8908\n",
            "Epoch 29/30\n",
            "55000/55000 [==============================] - 5s 100us/step - loss: 0.2314 - accuracy: 0.9174 - val_loss: 0.3167 - val_accuracy: 0.8856\n",
            "Epoch 30/30\n",
            "55000/55000 [==============================] - 5s 99us/step - loss: 0.2275 - accuracy: 0.9180 - val_loss: 0.2919 - val_accuracy: 0.8960\n"
          ],
          "name": "stdout"
        }
      ]
    },
    {
      "cell_type": "code",
      "metadata": {
        "id": "XvP2c4CaatRh",
        "colab_type": "code",
        "outputId": "84b1c89d-1f5f-4fea-88da-0c5c71a02c16",
        "colab": {
          "base_uri": "https://localhost:8080/",
          "height": 325
        }
      },
      "source": [
        "import matplotlib.pyplot as plt\n",
        "import pandas as pd\n",
        "pd.DataFrame(history.history).plot(figsize=(8,5))\n",
        "plt.grid(True)\n",
        "plt.gca().set_ylim(0,1)\n",
        "plt.show()"
      ],
      "execution_count": 0,
      "outputs": [
        {
          "output_type": "display_data",
          "data": {
            "image/png": "[encoded data removed]",
            "text/plain": [
              "<Figure size 576x360 with 1 Axes>"
            ]
          },
          "metadata": {
            "tags": [],
            "needs_background": "light"
          }
        }
      ]
    },
    {
      "cell_type": "code",
      "metadata": {
        "id": "uzynrWlkfBVL",
        "colab_type": "code",
        "outputId": "a69a9479-c060-4f2f-fd96-e0ed2c0aeb77",
        "colab": {
          "base_uri": "https://localhost:8080/",
          "height": 55
        }
      },
      "source": [
        "model.evaluate(X_test,y_test)"
      ],
      "execution_count": 0,
      "outputs": [
        {
          "output_type": "stream",
          "text": [
            "10000/10000 [==============================] - 0s 36us/step\n"
          ],
          "name": "stdout"
        },
        {
          "output_type": "execute_result",
          "data": {
            "text/plain": [
              "[72.24365569152832, 0.8366000056266785]"
            ]
          },
          "metadata": {
            "tags": []
          },
          "execution_count": 17
        }
      ]
    },
    {
      "cell_type": "markdown",
      "metadata": {
        "id": "GwLKZF9jaQg-",
        "colab_type": "text"
      },
      "source": [
        "Using the Model to Make Predictions"
      ]
    },
    {
      "cell_type": "code",
      "metadata": {
        "id": "HeDH8YccRx6r",
        "colab_type": "code",
        "outputId": "70485a22-9c9a-4e01-a777-9bcb2842a06d",
        "colab": {
          "base_uri": "https://localhost:8080/",
          "height": 75
        }
      },
      "source": [
        "X_new = X_test[:3]\n",
        "y_proba = model.predict(X_new)\n",
        "y_proba.round(2)"
      ],
      "execution_count": 0,
      "outputs": [
        {
          "output_type": "execute_result",
          "data": {
            "text/plain": [
              "array([[0., 0., 0., 0., 0., 0., 0., 0., 0., 1.],\n",
              "       [0., 0., 1., 0., 0., 0., 0., 0., 0., 0.],\n",
              "       [0., 1., 0., 0., 0., 0., 0., 0., 0., 0.]], dtype=float32)"
            ]
          },
          "metadata": {
            "tags": []
          },
          "execution_count": 21
        }
      ]
    },
    {
      "cell_type": "code",
      "metadata": {
        "id": "RxUN_9VUcoam",
        "colab_type": "code",
        "outputId": "7e9aff1e-d597-42a5-8102-a244c41ac2f7",
        "colab": {
          "base_uri": "https://localhost:8080/",
          "height": 36
        }
      },
      "source": [
        "y_pred = model.predict_classes(X_new)\n",
        "y_pred"
      ],
      "execution_count": 0,
      "outputs": [
        {
          "output_type": "execute_result",
          "data": {
            "text/plain": [
              "array([9, 2, 1])"
            ]
          },
          "metadata": {
            "tags": []
          },
          "execution_count": 24
        }
      ]
    },
    {
      "cell_type": "code",
      "metadata": {
        "id": "hlq5y4qVfjzf",
        "colab_type": "code",
        "outputId": "10c929a2-70f4-4c26-9df7-638f991f5dbf",
        "colab": {
          "base_uri": "https://localhost:8080/",
          "height": 36
        }
      },
      "source": [
        "import numpy as np\n",
        "np.array(class_names)[y_pred]"
      ],
      "execution_count": 0,
      "outputs": [
        {
          "output_type": "execute_result",
          "data": {
            "text/plain": [
              "array(['Ankle boot', 'Pullover', 'Trouser'], dtype='<U11')"
            ]
          },
          "metadata": {
            "tags": []
          },
          "execution_count": 26
        }
      ]
    },
    {
      "cell_type": "code",
      "metadata": {
        "id": "fmCnY6fCf3Vx",
        "colab_type": "code",
        "outputId": "cb928624-a5cd-4822-f775-7fa8ff25cfda",
        "colab": {
          "base_uri": "https://localhost:8080/",
          "height": 36
        }
      },
      "source": [
        "y_new = y_test[:3]\n",
        "y_new"
      ],
      "execution_count": 0,
      "outputs": [
        {
          "output_type": "execute_result",
          "data": {
            "text/plain": [
              "array([9, 2, 1], dtype=uint8)"
            ]
          },
          "metadata": {
            "tags": []
          },
          "execution_count": 27
        }
      ]
    }
  ]
}