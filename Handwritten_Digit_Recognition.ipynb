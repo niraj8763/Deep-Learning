{
  "nbformat": 4,
  "nbformat_minor": 0,
  "metadata": {
    "colab": {
      "name": "Handwritten Digit Recognition.ipynb",
      "provenance": [],
      "collapsed_sections": [],
      "authorship_tag": "ABX9TyPTUsBh6Hr2UjkfaKjvu6c6",
      "include_colab_link": true
    },
    "kernelspec": {
      "name": "python3",
      "display_name": "Python 3"
    },
    "accelerator": "GPU"
  },
  "cells": [
    {
      "cell_type": "markdown",
      "metadata": {
        "id": "view-in-github",
        "colab_type": "text"
      },
      "source": [
        "<a href=\"https://colab.research.google.com/github/niraj8763/Deep-Learning/blob/master/Handwritten_Digit_Recognition.ipynb\" target=\"_parent\"><img src=\"https://colab.research.google.com/assets/colab-badge.svg\" alt=\"Open In Colab\"/></a>"
      ]
    },
    {
      "cell_type": "markdown",
      "metadata": {
        "id": "QPGQX_Dy_1YQ",
        "colab_type": "text"
      },
      "source": [
        "Handwritten Digit Recognition Dataset\n",
        "\n",
        " Loading the MNIST dataset in Keras"
      ]
    },
    {
      "cell_type": "markdown",
      "metadata": {
        "id": "RY8K66i1Bt40",
        "colab_type": "text"
      },
      "source": [
        "Baseline Model with Multilayer Perceptrons"
      ]
    },
    {
      "cell_type": "code",
      "metadata": {
        "id": "kXkGf3E8A8at",
        "colab_type": "code",
        "colab": {}
      },
      "source": [
        "import numpy\n",
        "from keras.datasets import mnist\n",
        "from keras.models import Sequential\n",
        "from keras.layers import Dense\n",
        "from keras.layers import Dropout\n",
        "from keras.utils import np_utils"
      ],
      "execution_count": null,
      "outputs": []
    },
    {
      "cell_type": "code",
      "metadata": {
        "id": "CK18BaIRATKD",
        "colab_type": "code",
        "colab": {}
      },
      "source": [
        "# fix random seed for reproducibility\n",
        "seed = 7\n",
        "numpy.random.seed(seed)"
      ],
      "execution_count": null,
      "outputs": []
    },
    {
      "cell_type": "code",
      "metadata": {
        "id": "Q8GrVt9KBmtT",
        "colab_type": "code",
        "colab": {}
      },
      "source": [
        "# load data\n",
        "(X_train, y_train), (X_test, y_test) = mnist.load_data()"
      ],
      "execution_count": null,
      "outputs": []
    },
    {
      "cell_type": "code",
      "metadata": {
        "id": "t8dSCoVsBpwi",
        "colab_type": "code",
        "colab": {}
      },
      "source": [
        "# flatten 28*28 images to a 784 vector for each image\n",
        "num_pixels = X_train.shape[1] * X_train.shape[2]\n",
        "X_train = X_train.reshape(X_train.shape[0], num_pixels).astype( 'float32' )\n",
        "X_test = X_test.reshape(X_test.shape[0], num_pixels).astype( 'float32' )"
      ],
      "execution_count": null,
      "outputs": []
    },
    {
      "cell_type": "code",
      "metadata": {
        "id": "FQ7bbeaFDWNJ",
        "colab_type": "code",
        "colab": {}
      },
      "source": [
        "# normalize inputs from 0-255 to 0-1\n",
        "X_train = X_train / 255\n",
        "X_test = X_test / 255"
      ],
      "execution_count": null,
      "outputs": []
    },
    {
      "cell_type": "code",
      "metadata": {
        "id": "S_A2HZJxDe6m",
        "colab_type": "code",
        "colab": {}
      },
      "source": [
        "# one hot encode outputs\n",
        "y_train = np_utils.to_categorical(y_train)\n",
        "y_test = np_utils.to_categorical(y_test)\n",
        "num_classes = y_test.shape[1]"
      ],
      "execution_count": null,
      "outputs": []
    },
    {
      "cell_type": "code",
      "metadata": {
        "id": "cPxxZid7EAd9",
        "colab_type": "code",
        "colab": {}
      },
      "source": [
        "# define baseline model\n",
        "def baseline_model():\n",
        "# create model\n",
        "  model = Sequential()\n",
        "  model.add(Dense(num_pixels, kernel_initializer= 'normal' , activation= 'relu',input_dim=num_pixels ))\n",
        "  model.add(Dense(num_classes, kernel_initializer= 'normal' , activation= 'softmax' ))\n",
        "# Compile model\n",
        "  model.compile(loss= 'categorical_crossentropy' , optimizer= 'adam' , metrics=[ 'accuracy' ])\n",
        "  return model"
      ],
      "execution_count": null,
      "outputs": []
    },
    {
      "cell_type": "code",
      "metadata": {
        "id": "UgCaQgKSC6om",
        "colab_type": "code",
        "colab": {
          "base_uri": "https://localhost:8080/",
          "height": 437
        },
        "outputId": "fa68e40c-9eab-4614-d6cd-93af428d995b"
      },
      "source": [
        "# build the model\n",
        "model = baseline_model()\n",
        "# Fit the model\n",
        "model.fit(X_train, y_train, validation_data=(X_test, y_test), epochs=10, batch_size=200,\n",
        "verbose=2)\n",
        "# Final evaluation of the model\n",
        "scores = model.evaluate(X_test, y_test, verbose=0)\n",
        "print(\"Baseline Error: %.2f%%\" % (100-scores[1]*100))"
      ],
      "execution_count": null,
      "outputs": [
        {
          "output_type": "stream",
          "text": [
            "Train on 60000 samples, validate on 10000 samples\n",
            "Epoch 1/10\n",
            " - 6s - loss: 0.2792 - accuracy: 0.9224 - val_loss: 0.1371 - val_accuracy: 0.9606\n",
            "Epoch 2/10\n",
            " - 6s - loss: 0.1103 - accuracy: 0.9678 - val_loss: 0.0968 - val_accuracy: 0.9703\n",
            "Epoch 3/10\n",
            " - 5s - loss: 0.0719 - accuracy: 0.9795 - val_loss: 0.0862 - val_accuracy: 0.9739\n",
            "Epoch 4/10\n",
            " - 6s - loss: 0.0509 - accuracy: 0.9851 - val_loss: 0.0722 - val_accuracy: 0.9772\n",
            "Epoch 5/10\n",
            " - 6s - loss: 0.0354 - accuracy: 0.9904 - val_loss: 0.0637 - val_accuracy: 0.9792\n",
            "Epoch 6/10\n",
            " - 6s - loss: 0.0276 - accuracy: 0.9924 - val_loss: 0.0593 - val_accuracy: 0.9812\n",
            "Epoch 7/10\n",
            " - 6s - loss: 0.0204 - accuracy: 0.9951 - val_loss: 0.0602 - val_accuracy: 0.9816\n",
            "Epoch 8/10\n",
            " - 6s - loss: 0.0142 - accuracy: 0.9966 - val_loss: 0.0609 - val_accuracy: 0.9821\n",
            "Epoch 9/10\n",
            " - 6s - loss: 0.0106 - accuracy: 0.9977 - val_loss: 0.0631 - val_accuracy: 0.9805\n",
            "Epoch 10/10\n",
            " - 6s - loss: 0.0077 - accuracy: 0.9987 - val_loss: 0.0609 - val_accuracy: 0.9815\n",
            "Baseline Error: 1.85%\n"
          ],
          "name": "stdout"
        }
      ]
    },
    {
      "cell_type": "code",
      "metadata": {
        "id": "inwsgMsyAFJp",
        "colab_type": "code",
        "colab": {}
      },
      "source": [
        ""
      ],
      "execution_count": null,
      "outputs": []
    }
  ]
}