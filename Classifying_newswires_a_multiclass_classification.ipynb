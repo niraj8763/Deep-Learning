{
  "nbformat": 4,
  "nbformat_minor": 0,
  "metadata": {
    "colab": {
      "name": "Classifying newswires: a multiclass classification.ipynb",
      "provenance": [],
      "collapsed_sections": [],
      "authorship_tag": "ABX9TyM5h+E4/JUn4ti7x2aIE8CT",
      "include_colab_link": true
    },
    "kernelspec": {
      "name": "python3",
      "display_name": "Python 3"
    }
  },
  "cells": [
    {
      "cell_type": "markdown",
      "metadata": {
        "id": "view-in-github",
        "colab_type": "text"
      },
      "source": [
        "<a href=\"https://colab.research.google.com/github/niraj8763/Deep-Learning/blob/master/Classifying_newswires_a_multiclass_classification.ipynb\" target=\"_parent\"><img src=\"https://colab.research.google.com/assets/colab-badge.svg\" alt=\"Open In Colab\"/></a>"
      ]
    },
    {
      "cell_type": "markdown",
      "metadata": {
        "id": "HgCR8mW-n50V",
        "colab_type": "text"
      },
      "source": [
        "# The Reuters dataset\n",
        "\n",
        "## Loading the Reuters dataset"
      ]
    },
    {
      "cell_type": "code",
      "metadata": {
        "id": "oHlUEH99nR8v",
        "colab_type": "code",
        "outputId": "8fbfecd4-379e-40e4-a587-035a78e19ae8",
        "colab": {
          "base_uri": "https://localhost:8080/",
          "height": 75
        }
      },
      "source": [
        "from keras.datasets import reuters\n",
        "(train_data,train_labels),(test_data,test_labels) = reuters.load_data(num_words=10000)"
      ],
      "execution_count": 1,
      "outputs": [
        {
          "output_type": "stream",
          "text": [
            "Using TensorFlow backend.\n"
          ],
          "name": "stderr"
        },
        {
          "output_type": "stream",
          "text": [
            "Downloading data from https://s3.amazonaws.com/text-datasets/reuters.npz\n",
            "2113536/2110848 [==============================] - 0s 0us/step\n"
          ],
          "name": "stdout"
        }
      ]
    },
    {
      "cell_type": "code",
      "metadata": {
        "id": "rgduXH0VpA4j",
        "colab_type": "code",
        "outputId": "2b43ab1c-8573-4222-be23-5a9136f11fff",
        "colab": {
          "base_uri": "https://localhost:8080/",
          "height": 36
        }
      },
      "source": [
        "len(train_data)"
      ],
      "execution_count": 2,
      "outputs": [
        {
          "output_type": "execute_result",
          "data": {
            "text/plain": [
              "8982"
            ]
          },
          "metadata": {
            "tags": []
          },
          "execution_count": 2
        }
      ]
    },
    {
      "cell_type": "code",
      "metadata": {
        "id": "aK4hwhH6pYlq",
        "colab_type": "code",
        "outputId": "506327a9-db00-4637-936c-b7855bbf3766",
        "colab": {
          "base_uri": "https://localhost:8080/",
          "height": 36
        }
      },
      "source": [
        "len(test_data)"
      ],
      "execution_count": 3,
      "outputs": [
        {
          "output_type": "execute_result",
          "data": {
            "text/plain": [
              "2246"
            ]
          },
          "metadata": {
            "tags": []
          },
          "execution_count": 3
        }
      ]
    },
    {
      "cell_type": "code",
      "metadata": {
        "id": "C5eZ_-rLpbdQ",
        "colab_type": "code",
        "outputId": "f55a0d48-1a49-40d5-c30d-da4b9a6fad00",
        "colab": {
          "base_uri": "https://localhost:8080/",
          "height": 609
        }
      },
      "source": [
        "train_data[10]"
      ],
      "execution_count": 4,
      "outputs": [
        {
          "output_type": "execute_result",
          "data": {
            "text/plain": [
              "[1,\n",
              " 245,\n",
              " 273,\n",
              " 207,\n",
              " 156,\n",
              " 53,\n",
              " 74,\n",
              " 160,\n",
              " 26,\n",
              " 14,\n",
              " 46,\n",
              " 296,\n",
              " 26,\n",
              " 39,\n",
              " 74,\n",
              " 2979,\n",
              " 3554,\n",
              " 14,\n",
              " 46,\n",
              " 4689,\n",
              " 4329,\n",
              " 86,\n",
              " 61,\n",
              " 3499,\n",
              " 4795,\n",
              " 14,\n",
              " 61,\n",
              " 451,\n",
              " 4329,\n",
              " 17,\n",
              " 12]"
            ]
          },
          "metadata": {
            "tags": []
          },
          "execution_count": 4
        }
      ]
    },
    {
      "cell_type": "markdown",
      "metadata": {
        "id": "rGHRsyzVpreX",
        "colab_type": "text"
      },
      "source": [
        "## Decoding newswires back to text"
      ]
    },
    {
      "cell_type": "code",
      "metadata": {
        "id": "Lu6xIXgUpl6P",
        "colab_type": "code",
        "outputId": "02e15a24-caea-4b0e-a5ff-fa95b98037f0",
        "colab": {
          "base_uri": "https://localhost:8080/",
          "height": 55
        }
      },
      "source": [
        "word_index = reuters.get_word_index()\n",
        "reverse_word_index = dict([(value, key) for (key, value) in word_index.items()])\n",
        "decoded_newswire = ' '.join([reverse_word_index.get(i - 3, '?') for i in\n",
        "train_data[0]])"
      ],
      "execution_count": 5,
      "outputs": [
        {
          "output_type": "stream",
          "text": [
            "Downloading data from https://s3.amazonaws.com/text-datasets/reuters_word_index.json\n",
            "557056/550378 [==============================] - 0s 1us/step\n"
          ],
          "name": "stdout"
        }
      ]
    },
    {
      "cell_type": "code",
      "metadata": {
        "id": "p1FDEmdCqGA1",
        "colab_type": "code",
        "outputId": "29f75b96-4151-4c3f-8f64-caf20488b2de",
        "colab": {
          "base_uri": "https://localhost:8080/",
          "height": 36
        }
      },
      "source": [
        "train_labels[10]"
      ],
      "execution_count": 6,
      "outputs": [
        {
          "output_type": "execute_result",
          "data": {
            "text/plain": [
              "3"
            ]
          },
          "metadata": {
            "tags": []
          },
          "execution_count": 6
        }
      ]
    },
    {
      "cell_type": "markdown",
      "metadata": {
        "id": "CpSDgoYHqlQq",
        "colab_type": "text"
      },
      "source": [
        "## Preparing the data\n",
        "\n",
        "### Encoding the data"
      ]
    },
    {
      "cell_type": "code",
      "metadata": {
        "id": "phYb8Rh3qt9R",
        "colab_type": "code",
        "colab": {}
      },
      "source": [
        "import numpy as np\n",
        "def vectorize_sequences(sequences,dimension=10000):\n",
        "  results = np.zeros((len(sequences),dimension))\n",
        "  for i, sequence in enumerate(sequences):\n",
        "    results[i,sequence] =1.\n",
        "  return results"
      ],
      "execution_count": 0,
      "outputs": []
    },
    {
      "cell_type": "code",
      "metadata": {
        "id": "u7EHxoZ2r1AU",
        "colab_type": "code",
        "colab": {}
      },
      "source": [
        "x_train = vectorize_sequences(train_data)\n",
        "x_test = vectorize_sequences(test_data)"
      ],
      "execution_count": 0,
      "outputs": []
    },
    {
      "cell_type": "code",
      "metadata": {
        "id": "m9HvEO0psfmK",
        "colab_type": "code",
        "outputId": "43f82b6b-4cb5-4504-83bc-49e9ac18556f",
        "colab": {
          "base_uri": "https://localhost:8080/",
          "height": 151
        }
      },
      "source": [
        "x_train"
      ],
      "execution_count": 9,
      "outputs": [
        {
          "output_type": "execute_result",
          "data": {
            "text/plain": [
              "array([[0., 1., 1., ..., 0., 0., 0.],\n",
              "       [0., 1., 1., ..., 0., 0., 0.],\n",
              "       [0., 1., 1., ..., 0., 0., 0.],\n",
              "       ...,\n",
              "       [0., 1., 1., ..., 0., 0., 0.],\n",
              "       [0., 1., 1., ..., 0., 0., 0.],\n",
              "       [0., 1., 1., ..., 0., 0., 0.]])"
            ]
          },
          "metadata": {
            "tags": []
          },
          "execution_count": 9
        }
      ]
    },
    {
      "cell_type": "code",
      "metadata": {
        "id": "3lTLr0gVshtK",
        "colab_type": "code",
        "outputId": "9f22517f-7ac3-43b1-d5f4-49703d98f9fd",
        "colab": {
          "base_uri": "https://localhost:8080/",
          "height": 151
        }
      },
      "source": [
        "x_test"
      ],
      "execution_count": 10,
      "outputs": [
        {
          "output_type": "execute_result",
          "data": {
            "text/plain": [
              "array([[0., 1., 1., ..., 0., 0., 0.],\n",
              "       [0., 1., 1., ..., 0., 0., 0.],\n",
              "       [0., 1., 1., ..., 0., 0., 0.],\n",
              "       ...,\n",
              "       [0., 1., 0., ..., 0., 0., 0.],\n",
              "       [0., 1., 1., ..., 0., 0., 0.],\n",
              "       [0., 1., 1., ..., 0., 0., 0.]])"
            ]
          },
          "metadata": {
            "tags": []
          },
          "execution_count": 10
        }
      ]
    },
    {
      "cell_type": "code",
      "metadata": {
        "id": "vzxCmHIjs0uk",
        "colab_type": "code",
        "colab": {}
      },
      "source": [
        "def to_one_hot(labels,dimension=46):\n",
        "  results = np.zeros((len(labels),dimension))\n",
        "  for i , label in enumerate(labels):\n",
        "    results[i,label] = 1.\n",
        "  return results"
      ],
      "execution_count": 0,
      "outputs": []
    },
    {
      "cell_type": "code",
      "metadata": {
        "id": "pf9vNbintiq2",
        "colab_type": "code",
        "colab": {}
      },
      "source": [
        "one_hot_train_labels = to_one_hot(train_labels)\n",
        "one_hot_test_labels = to_one_hot(test_labels)"
      ],
      "execution_count": 0,
      "outputs": []
    },
    {
      "cell_type": "code",
      "metadata": {
        "id": "EgO90L3Qt0G7",
        "colab_type": "code",
        "outputId": "d2eb8ba5-6790-4205-9baf-de2b01b40827",
        "colab": {
          "base_uri": "https://localhost:8080/",
          "height": 151
        }
      },
      "source": [
        "one_hot_train_labels"
      ],
      "execution_count": 13,
      "outputs": [
        {
          "output_type": "execute_result",
          "data": {
            "text/plain": [
              "array([[0., 0., 0., ..., 0., 0., 0.],\n",
              "       [0., 0., 0., ..., 0., 0., 0.],\n",
              "       [0., 0., 0., ..., 0., 0., 0.],\n",
              "       ...,\n",
              "       [0., 0., 0., ..., 0., 0., 0.],\n",
              "       [0., 0., 0., ..., 0., 0., 0.],\n",
              "       [0., 0., 0., ..., 0., 0., 0.]])"
            ]
          },
          "metadata": {
            "tags": []
          },
          "execution_count": 13
        }
      ]
    },
    {
      "cell_type": "code",
      "metadata": {
        "id": "l0rDaW1bt6sC",
        "colab_type": "code",
        "outputId": "d12ec09d-59f2-49f9-b201-935177b72423",
        "colab": {
          "base_uri": "https://localhost:8080/",
          "height": 151
        }
      },
      "source": [
        "one_hot_test_labels"
      ],
      "execution_count": 14,
      "outputs": [
        {
          "output_type": "execute_result",
          "data": {
            "text/plain": [
              "array([[0., 0., 0., ..., 0., 0., 0.],\n",
              "       [0., 0., 0., ..., 0., 0., 0.],\n",
              "       [0., 1., 0., ..., 0., 0., 0.],\n",
              "       ...,\n",
              "       [0., 0., 0., ..., 0., 0., 0.],\n",
              "       [0., 0., 0., ..., 0., 0., 0.],\n",
              "       [0., 0., 0., ..., 0., 0., 0.]])"
            ]
          },
          "metadata": {
            "tags": []
          },
          "execution_count": 14
        }
      ]
    },
    {
      "cell_type": "code",
      "metadata": {
        "id": "PM5KNoK6uBPb",
        "colab_type": "code",
        "colab": {}
      },
      "source": [
        "from keras.utils.np_utils import to_categorical\n",
        "one_hot_train_labels = to_categorical(train_labels)\n",
        "one_hot_test_labels = to_categorical(test_labels)"
      ],
      "execution_count": 0,
      "outputs": []
    },
    {
      "cell_type": "code",
      "metadata": {
        "id": "CZwaJjOBuSMh",
        "colab_type": "code",
        "outputId": "63d3489e-e351-42c7-fc95-4b8f23e283fc",
        "colab": {
          "base_uri": "https://localhost:8080/",
          "height": 151
        }
      },
      "source": [
        "one_hot_train_labels"
      ],
      "execution_count": 16,
      "outputs": [
        {
          "output_type": "execute_result",
          "data": {
            "text/plain": [
              "array([[0., 0., 0., ..., 0., 0., 0.],\n",
              "       [0., 0., 0., ..., 0., 0., 0.],\n",
              "       [0., 0., 0., ..., 0., 0., 0.],\n",
              "       ...,\n",
              "       [0., 0., 0., ..., 0., 0., 0.],\n",
              "       [0., 0., 0., ..., 0., 0., 0.],\n",
              "       [0., 0., 0., ..., 0., 0., 0.]], dtype=float32)"
            ]
          },
          "metadata": {
            "tags": []
          },
          "execution_count": 16
        }
      ]
    },
    {
      "cell_type": "code",
      "metadata": {
        "id": "UyUMCjc5uWvM",
        "colab_type": "code",
        "outputId": "a17f5c3f-a2e7-4de7-ca62-fc320ebc9632",
        "colab": {
          "base_uri": "https://localhost:8080/",
          "height": 151
        }
      },
      "source": [
        "one_hot_test_labels"
      ],
      "execution_count": 17,
      "outputs": [
        {
          "output_type": "execute_result",
          "data": {
            "text/plain": [
              "array([[0., 0., 0., ..., 0., 0., 0.],\n",
              "       [0., 0., 0., ..., 0., 0., 0.],\n",
              "       [0., 1., 0., ..., 0., 0., 0.],\n",
              "       ...,\n",
              "       [0., 0., 0., ..., 0., 0., 0.],\n",
              "       [0., 0., 0., ..., 0., 0., 0.],\n",
              "       [0., 0., 0., ..., 0., 0., 0.]], dtype=float32)"
            ]
          },
          "metadata": {
            "tags": []
          },
          "execution_count": 17
        }
      ]
    },
    {
      "cell_type": "markdown",
      "metadata": {
        "id": "b8KpAXA0uivU",
        "colab_type": "text"
      },
      "source": [
        "## Building your network\n",
        "\n",
        "### Model definition"
      ]
    },
    {
      "cell_type": "code",
      "metadata": {
        "id": "djDPodIBuacH",
        "colab_type": "code",
        "colab": {}
      },
      "source": [
        "from keras import models\n",
        "from keras import layers\n",
        "model = models.Sequential()\n",
        "model.add(layers.Dense(64,activation='relu',input_shape=(10000,)))\n",
        "model.add(layers.Dense(64,activation='relu'))\n",
        "model.add(layers.Dense(46,activation='softmax'))"
      ],
      "execution_count": 0,
      "outputs": []
    },
    {
      "cell_type": "markdown",
      "metadata": {
        "id": "5a-gBfPQxCra",
        "colab_type": "text"
      },
      "source": [
        "## Compiling the model"
      ]
    },
    {
      "cell_type": "code",
      "metadata": {
        "id": "E0sWriKHwyoF",
        "colab_type": "code",
        "colab": {}
      },
      "source": [
        "model.compile(optimizer='rmsprop',\n",
        "loss='categorical_crossentropy',\n",
        "metrics=['accuracy'])"
      ],
      "execution_count": 0,
      "outputs": []
    },
    {
      "cell_type": "markdown",
      "metadata": {
        "id": "cAen_HOdxMmN",
        "colab_type": "text"
      },
      "source": [
        "## Setting aside a validation set"
      ]
    },
    {
      "cell_type": "code",
      "metadata": {
        "id": "mlPQZYxNxKH0",
        "colab_type": "code",
        "colab": {}
      },
      "source": [
        "x_val = x_train[:1000]\n",
        "partial_x_train = x_train[1000:]\n",
        "y_val = one_hot_train_labels[:1000]\n",
        "partial_y_train = one_hot_train_labels[1000:]"
      ],
      "execution_count": 0,
      "outputs": []
    },
    {
      "cell_type": "markdown",
      "metadata": {
        "id": "zchlHQr3xct_",
        "colab_type": "text"
      },
      "source": [
        "##  Training the model"
      ]
    },
    {
      "cell_type": "code",
      "metadata": {
        "id": "m872RhqrxV71",
        "colab_type": "code",
        "outputId": "4979841a-b167-4cf2-8241-21ea3846fae9",
        "colab": {
          "base_uri": "https://localhost:8080/",
          "height": 820
        }
      },
      "source": [
        "history = model.fit(partial_x_train,\n",
        "            partial_y_train,\n",
        "            epochs=20,\n",
        "            batch_size=512,\n",
        "            validation_data=(x_val, y_val))"
      ],
      "execution_count": 21,
      "outputs": [
        {
          "output_type": "stream",
          "text": [
            "Train on 7982 samples, validate on 1000 samples\n",
            "Epoch 1/20\n",
            "7982/7982 [==============================] - 1s 148us/step - loss: 2.5080 - accuracy: 0.5423 - val_loss: 1.6506 - val_accuracy: 0.6430\n",
            "Epoch 2/20\n",
            "7982/7982 [==============================] - 1s 114us/step - loss: 1.3511 - accuracy: 0.7098 - val_loss: 1.2777 - val_accuracy: 0.7100\n",
            "Epoch 3/20\n",
            "7982/7982 [==============================] - 1s 112us/step - loss: 1.0211 - accuracy: 0.7774 - val_loss: 1.1508 - val_accuracy: 0.7480\n",
            "Epoch 4/20\n",
            "7982/7982 [==============================] - 1s 110us/step - loss: 0.8165 - accuracy: 0.8241 - val_loss: 1.0433 - val_accuracy: 0.7680\n",
            "Epoch 5/20\n",
            "7982/7982 [==============================] - 1s 111us/step - loss: 0.6491 - accuracy: 0.8608 - val_loss: 0.9795 - val_accuracy: 0.7780\n",
            "Epoch 6/20\n",
            "7982/7982 [==============================] - 1s 111us/step - loss: 0.5267 - accuracy: 0.8847 - val_loss: 0.9363 - val_accuracy: 0.7980\n",
            "Epoch 7/20\n",
            "7982/7982 [==============================] - 1s 115us/step - loss: 0.4251 - accuracy: 0.9084 - val_loss: 0.8889 - val_accuracy: 0.8190\n",
            "Epoch 8/20\n",
            "7982/7982 [==============================] - 1s 112us/step - loss: 0.3460 - accuracy: 0.9262 - val_loss: 0.9079 - val_accuracy: 0.8040\n",
            "Epoch 9/20\n",
            "7982/7982 [==============================] - 1s 111us/step - loss: 0.2845 - accuracy: 0.9362 - val_loss: 0.8846 - val_accuracy: 0.8170\n",
            "Epoch 10/20\n",
            "7982/7982 [==============================] - 1s 112us/step - loss: 0.2375 - accuracy: 0.9425 - val_loss: 0.9514 - val_accuracy: 0.7950\n",
            "Epoch 11/20\n",
            "7982/7982 [==============================] - 1s 112us/step - loss: 0.2087 - accuracy: 0.9475 - val_loss: 0.9072 - val_accuracy: 0.8210\n",
            "Epoch 12/20\n",
            "7982/7982 [==============================] - 1s 114us/step - loss: 0.1823 - accuracy: 0.9506 - val_loss: 0.9130 - val_accuracy: 0.8200\n",
            "Epoch 13/20\n",
            "7982/7982 [==============================] - 1s 113us/step - loss: 0.1638 - accuracy: 0.9536 - val_loss: 0.9671 - val_accuracy: 0.8080\n",
            "Epoch 14/20\n",
            "7982/7982 [==============================] - 1s 113us/step - loss: 0.1497 - accuracy: 0.9553 - val_loss: 0.9750 - val_accuracy: 0.8060\n",
            "Epoch 15/20\n",
            "7982/7982 [==============================] - 1s 112us/step - loss: 0.1406 - accuracy: 0.9549 - val_loss: 1.0309 - val_accuracy: 0.7980\n",
            "Epoch 16/20\n",
            "7982/7982 [==============================] - 1s 113us/step - loss: 0.1328 - accuracy: 0.9577 - val_loss: 0.9820 - val_accuracy: 0.8110\n",
            "Epoch 17/20\n",
            "7982/7982 [==============================] - 1s 113us/step - loss: 0.1210 - accuracy: 0.9583 - val_loss: 0.9855 - val_accuracy: 0.8110\n",
            "Epoch 18/20\n",
            "7982/7982 [==============================] - 1s 113us/step - loss: 0.1182 - accuracy: 0.9592 - val_loss: 1.0399 - val_accuracy: 0.8080\n",
            "Epoch 19/20\n",
            "7982/7982 [==============================] - 1s 116us/step - loss: 0.1161 - accuracy: 0.9570 - val_loss: 1.0262 - val_accuracy: 0.8070\n",
            "Epoch 20/20\n",
            "7982/7982 [==============================] - 1s 114us/step - loss: 0.1137 - accuracy: 0.9544 - val_loss: 1.0914 - val_accuracy: 0.7990\n"
          ],
          "name": "stdout"
        }
      ]
    },
    {
      "cell_type": "markdown",
      "metadata": {
        "id": "Hj-ihh4rx440",
        "colab_type": "text"
      },
      "source": [
        "## Plotting the training and validation loss"
      ]
    },
    {
      "cell_type": "code",
      "metadata": {
        "id": "oBVnLUizxp75",
        "colab_type": "code",
        "outputId": "ab95c7ca-b627-48df-98e0-064725f3279d",
        "colab": {
          "base_uri": "https://localhost:8080/",
          "height": 295
        }
      },
      "source": [
        "import matplotlib.pyplot as plt\n",
        "loss = history.history['loss']\n",
        "val_loss = history.history['val_loss']\n",
        "epochs = range(1, len(loss) + 1)\n",
        "plt.plot(epochs, loss, 'bo', label='Training loss')\n",
        "plt.plot(epochs, val_loss, 'b', label='Validation loss')\n",
        "plt.title('Training and validation loss')\n",
        "plt.xlabel('Epochs')\n",
        "plt.ylabel('Loss')\n",
        "plt.legend()\n",
        "plt.show()"
      ],
      "execution_count": 22,
      "outputs": [
        {
          "output_type": "display_data",
          "data": {
            "image/png": "[encoded data removed]",
            "text/plain": [
              "<Figure size 432x288 with 1 Axes>"
            ]
          },
          "metadata": {
            "tags": [],
            "needs_background": "light"
          }
        }
      ]
    },
    {
      "cell_type": "markdown",
      "metadata": {
        "id": "c6p9cjW_yAkA",
        "colab_type": "text"
      },
      "source": [
        "##  Plotting the training and validation accuracy"
      ]
    },
    {
      "cell_type": "code",
      "metadata": {
        "id": "gzUGaDKtx89O",
        "colab_type": "code",
        "outputId": "b8e0887f-def7-4964-865b-38297fdf6c52",
        "colab": {
          "base_uri": "https://localhost:8080/",
          "height": 295
        }
      },
      "source": [
        "history_dict = history.history\n",
        "acc = history_dict['accuracy']\n",
        "val_acc = history.history['val_accuracy']\n",
        "plt.plot(epochs, acc, 'bo', label='Training acc')\n",
        "plt.plot(epochs, val_acc, 'b', label='Validation acc')\n",
        "plt.title('Training and validation accuracy')\n",
        "plt.xlabel('Epochs')\n",
        "plt.ylabel('Loss')\n",
        "plt.legend()\n",
        "plt.show()"
      ],
      "execution_count": 23,
      "outputs": [
        {
          "output_type": "display_data",
          "data": {
            "image/png": "[encoded data removed]",
            "text/plain": [
              "<Figure size 432x288 with 1 Axes>"
            ]
          },
          "metadata": {
            "tags": [],
            "needs_background": "light"
          }
        }
      ]
    },
    {
      "cell_type": "markdown",
      "metadata": {
        "id": "y-f5KJpyyn5J",
        "colab_type": "text"
      },
      "source": [
        "## Retraining a model from scratch"
      ]
    },
    {
      "cell_type": "code",
      "metadata": {
        "id": "XEUxzdW-o05b",
        "colab_type": "code",
        "colab": {}
      },
      "source": [
        "model = models.Sequential()\n",
        "model.add(layers.Dense(64, activation='relu', input_shape=(10000,)))\n",
        "model.add(layers.Dense(64, activation='relu'))\n",
        "model.add(layers.Dense(46, activation='softmax'))"
      ],
      "execution_count": 0,
      "outputs": []
    },
    {
      "cell_type": "code",
      "metadata": {
        "id": "j-5_6COPytlI",
        "colab_type": "code",
        "colab": {}
      },
      "source": [
        "model.compile(optimizer='rmsprop',\n",
        "loss='categorical_crossentropy',\n",
        "metrics=['accuracy'])"
      ],
      "execution_count": 0,
      "outputs": []
    },
    {
      "cell_type": "code",
      "metadata": {
        "id": "IIo9xBDSyv-h",
        "colab_type": "code",
        "colab": {
          "base_uri": "https://localhost:8080/",
          "height": 419
        },
        "outputId": "d0d52528-5780-415a-a769-6a4a8b3cd0d9"
      },
      "source": [
        "model.fit(partial_x_train,\n",
        "partial_y_train,\n",
        "epochs=9,\n",
        "batch_size=512,\n",
        "validation_data=(x_val, y_val))"
      ],
      "execution_count": 26,
      "outputs": [
        {
          "output_type": "stream",
          "text": [
            "Train on 7982 samples, validate on 1000 samples\n",
            "Epoch 1/9\n",
            "7982/7982 [==============================] - 1s 120us/step - loss: 2.5985 - accuracy: 0.5080 - val_loss: 1.7568 - val_accuracy: 0.6400\n",
            "Epoch 2/9\n",
            "7982/7982 [==============================] - 1s 111us/step - loss: 1.4167 - accuracy: 0.7056 - val_loss: 1.2966 - val_accuracy: 0.7200\n",
            "Epoch 3/9\n",
            "7982/7982 [==============================] - 1s 109us/step - loss: 1.0276 - accuracy: 0.7845 - val_loss: 1.1128 - val_accuracy: 0.7650\n",
            "Epoch 4/9\n",
            "7982/7982 [==============================] - 1s 113us/step - loss: 0.8032 - accuracy: 0.8305 - val_loss: 1.0215 - val_accuracy: 0.7860\n",
            "Epoch 5/9\n",
            "7982/7982 [==============================] - 1s 109us/step - loss: 0.6436 - accuracy: 0.8632 - val_loss: 0.9565 - val_accuracy: 0.7980\n",
            "Epoch 6/9\n",
            "7982/7982 [==============================] - 1s 111us/step - loss: 0.5200 - accuracy: 0.8896 - val_loss: 0.9132 - val_accuracy: 0.8050\n",
            "Epoch 7/9\n",
            "7982/7982 [==============================] - 1s 110us/step - loss: 0.4148 - accuracy: 0.9131 - val_loss: 0.8847 - val_accuracy: 0.8220\n",
            "Epoch 8/9\n",
            "7982/7982 [==============================] - 1s 111us/step - loss: 0.3426 - accuracy: 0.9271 - val_loss: 0.8799 - val_accuracy: 0.8340\n",
            "Epoch 9/9\n",
            "7982/7982 [==============================] - 1s 111us/step - loss: 0.2853 - accuracy: 0.9385 - val_loss: 0.8949 - val_accuracy: 0.8090\n"
          ],
          "name": "stdout"
        },
        {
          "output_type": "execute_result",
          "data": {
            "text/plain": [
              "<keras.callbacks.callbacks.History at 0x7f1217d29d68>"
            ]
          },
          "metadata": {
            "tags": []
          },
          "execution_count": 26
        }
      ]
    },
    {
      "cell_type": "code",
      "metadata": {
        "id": "zQhmm7Dqyym2",
        "colab_type": "code",
        "colab": {
          "base_uri": "https://localhost:8080/",
          "height": 36
        },
        "outputId": "47089b43-d2fc-450f-9ef4-6f5db1c94c56"
      },
      "source": [
        "results = model.evaluate(x_test, one_hot_test_labels)"
      ],
      "execution_count": 27,
      "outputs": [
        {
          "output_type": "stream",
          "text": [
            "2246/2246 [==============================] - 0s 79us/step\n"
          ],
          "name": "stdout"
        }
      ]
    },
    {
      "cell_type": "code",
      "metadata": {
        "id": "yfYkXpw_y2SV",
        "colab_type": "code",
        "colab": {
          "base_uri": "https://localhost:8080/",
          "height": 36
        },
        "outputId": "f624c2e0-a10b-473d-c12c-6c4d9edd9e63"
      },
      "source": [
        "results"
      ],
      "execution_count": 28,
      "outputs": [
        {
          "output_type": "execute_result",
          "data": {
            "text/plain": [
              "[0.9937052936927612, 0.7849510312080383]"
            ]
          },
          "metadata": {
            "tags": []
          },
          "execution_count": 28
        }
      ]
    },
    {
      "cell_type": "code",
      "metadata": {
        "id": "OLWrZT-Fy5Xc",
        "colab_type": "code",
        "colab": {
          "base_uri": "https://localhost:8080/",
          "height": 36
        },
        "outputId": "afb0265d-0143-46ce-83e6-969fb9e36822"
      },
      "source": [
        "import copy\n",
        "test_labels_copy = copy.copy(test_labels)\n",
        "np.random.shuffle(test_labels_copy)\n",
        "hits_array = np.array(test_labels) == np.array(test_labels_copy)\n",
        "float(np.sum(hits_array)) / len(test_labels)"
      ],
      "execution_count": 29,
      "outputs": [
        {
          "output_type": "execute_result",
          "data": {
            "text/plain": [
              "0.1981300089047195"
            ]
          },
          "metadata": {
            "tags": []
          },
          "execution_count": 29
        }
      ]
    },
    {
      "cell_type": "markdown",
      "metadata": {
        "id": "t56eEGQUzJwL",
        "colab_type": "text"
      },
      "source": [
        "## Generating predictions for new data"
      ]
    },
    {
      "cell_type": "code",
      "metadata": {
        "id": "ldyGZiOTzGF1",
        "colab_type": "code",
        "colab": {}
      },
      "source": [
        "predictions = model.predict(x_test)"
      ],
      "execution_count": 0,
      "outputs": []
    },
    {
      "cell_type": "code",
      "metadata": {
        "id": "mMTWahtjzNim",
        "colab_type": "code",
        "colab": {
          "base_uri": "https://localhost:8080/",
          "height": 36
        },
        "outputId": "401537cd-6126-4e1c-e56b-14e00f4167f5"
      },
      "source": [
        "predictions[0].shape"
      ],
      "execution_count": 31,
      "outputs": [
        {
          "output_type": "execute_result",
          "data": {
            "text/plain": [
              "(46,)"
            ]
          },
          "metadata": {
            "tags": []
          },
          "execution_count": 31
        }
      ]
    },
    {
      "cell_type": "code",
      "metadata": {
        "id": "icfdfVLMzQNW",
        "colab_type": "code",
        "colab": {
          "base_uri": "https://localhost:8080/",
          "height": 36
        },
        "outputId": "321531e1-4fdd-4b3b-f5de-0edf175f73a7"
      },
      "source": [
        "np.sum(predictions[0])"
      ],
      "execution_count": 32,
      "outputs": [
        {
          "output_type": "execute_result",
          "data": {
            "text/plain": [
              "1.0"
            ]
          },
          "metadata": {
            "tags": []
          },
          "execution_count": 32
        }
      ]
    },
    {
      "cell_type": "code",
      "metadata": {
        "id": "2THZRHhezS9C",
        "colab_type": "code",
        "colab": {
          "base_uri": "https://localhost:8080/",
          "height": 36
        },
        "outputId": "d0a59330-01e8-4766-a645-491674e9714c"
      },
      "source": [
        " np.argmax(predictions[0])"
      ],
      "execution_count": 33,
      "outputs": [
        {
          "output_type": "execute_result",
          "data": {
            "text/plain": [
              "3"
            ]
          },
          "metadata": {
            "tags": []
          },
          "execution_count": 33
        }
      ]
    },
    {
      "cell_type": "code",
      "metadata": {
        "id": "0hdBKcDRzWL3",
        "colab_type": "code",
        "colab": {}
      },
      "source": [
        ""
      ],
      "execution_count": 0,
      "outputs": []
    }
  ]
}