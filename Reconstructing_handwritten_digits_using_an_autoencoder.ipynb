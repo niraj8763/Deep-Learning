{
  "nbformat": 4,
  "nbformat_minor": 0,
  "metadata": {
    "kernelspec": {
      "display_name": "Python 3",
      "language": "python",
      "name": "python3"
    },
    "language_info": {
      "codemirror_mode": {
        "name": "ipython",
        "version": 3
      },
      "file_extension": ".py",
      "mimetype": "text/x-python",
      "name": "python",
      "nbconvert_exporter": "python",
      "pygments_lexer": "ipython3",
      "version": "3.7.3"
    },
    "colab": {
      "name": "Reconstructing handwritten digits using an autoencoder.ipynb",
      "provenance": [],
      "include_colab_link": true
    }
  },
  "cells": [
    {
      "cell_type": "markdown",
      "metadata": {
        "id": "view-in-github",
        "colab_type": "text"
      },
      "source": [
        "<a href=\"https://colab.research.google.com/github/niraj8763/Deep-Learning/blob/master/Reconstructing_handwritten_digits_using_an_autoencoder.ipynb\" target=\"_parent\"><img src=\"https://colab.research.google.com/assets/colab-badge.svg\" alt=\"Open In Colab\"/></a>"
      ]
    },
    {
      "cell_type": "markdown",
      "metadata": {
        "id": "Ta-FCbUV6_wt",
        "colab_type": "text"
      },
      "source": [
        "#  VanillaAutoencoder\n",
        "## The code  will required  the Numpy, Tensorflow, Matplotlib Module"
      ]
    },
    {
      "cell_type": "code",
      "metadata": {
        "id": "WMWKZXQq6_w1",
        "colab_type": "code",
        "colab": {}
      },
      "source": [
        "import numpy as np\n",
        "import tensorflow as tf\n",
        "import tensorflow.keras as k\n",
        "import matplotlib.pyplot as plt"
      ],
      "execution_count": null,
      "outputs": []
    },
    {
      "cell_type": "code",
      "metadata": {
        "id": "ZzHV9KxA6_xF",
        "colab_type": "code",
        "colab": {}
      },
      "source": [
        "# Hyperparameter Tuning\n",
        "np.random.seed(11)\n",
        "tf.random.set_seed(11)\n",
        "batch_size  = 256\n",
        "max_epochs = 50\n",
        "learning_rate = 1e-3\n",
        "momentum = 8e-1\n",
        "hidden_dim = 128\n",
        "original_dim = 784"
      ],
      "execution_count": null,
      "outputs": []
    },
    {
      "cell_type": "markdown",
      "metadata": {
        "id": "bfunPAzs6_xQ",
        "colab_type": "text"
      },
      "source": [
        "We normalize the data so that pixel values lie between [0,1]; this is\n",
        "achieved by simply dividing each pixel element by 255\n",
        "then we reshape the tensors from 2D to 1D"
      ]
    },
    {
      "cell_type": "code",
      "metadata": {
        "id": "R4gH4jzE6_xU",
        "colab_type": "code",
        "colab": {
          "base_uri": "https://localhost:8080/",
          "height": 55
        },
        "outputId": "8ec7e32b-1adf-4908-c6b2-dd2181d8f260"
      },
      "source": [
        "(X_train,_),(X_test,_) = k.datasets.mnist.load_data()\n",
        "X_train = X_train/255\n",
        "X_test = X_test/255\n",
        "X_train = X_train.astype(np.float32)\n",
        "X_test = X_test.astype(np.float32)\n",
        "X_train = np.reshape(X_train,(X_train.shape[0],784))\n",
        "X_test = np.reshape(X_test,(X_test.shape[0],784))\n",
        "training_dataset = tf.data.Dataset.from_tensor_slices(X_train).batch(batch_size)"
      ],
      "execution_count": null,
      "outputs": [
        {
          "output_type": "stream",
          "text": [
            "Downloading data from https://storage.googleapis.com/tensorflow/tf-keras-datasets/mnist.npz\n",
            "11493376/11490434 [==============================] - 0s 0us/step\n"
          ],
          "name": "stdout"
        }
      ]
    },
    {
      "cell_type": "markdown",
      "metadata": {
        "id": "VgVGM6W-6_xd",
        "colab_type": "text"
      },
      "source": [
        "# Encoder"
      ]
    },
    {
      "cell_type": "code",
      "metadata": {
        "id": "ONNfng0Z6_xe",
        "colab_type": "code",
        "colab": {}
      },
      "source": [
        "class Encoder(k.layers.Layer):\n",
        "    def __init__(self,hidden_dim):\n",
        "        super(Encoder,self).__init__()\n",
        "        self.hidden_layer = k.layers.Dense(units=hidden_dim,activation=tf.nn.relu)\n",
        "    \n",
        "    def call(self,input_features):\n",
        "        activation = self.hidden_layer(input_features)\n",
        "        return activation"
      ],
      "execution_count": null,
      "outputs": []
    },
    {
      "cell_type": "markdown",
      "metadata": {
        "id": "Sv1UaDKH6_xo",
        "colab_type": "text"
      },
      "source": [
        "# Decoder"
      ]
    },
    {
      "cell_type": "code",
      "metadata": {
        "id": "jnrNl5xc6_xq",
        "colab_type": "code",
        "colab": {}
      },
      "source": [
        "class Decoder(k.layers.Layer):\n",
        "    def __init__(self,hidden_dim,original_dim):\n",
        "        super(Decoder,self).__init__()\n",
        "        self.output_layer = k.layers.Dense(units=original_dim,activation=tf.nn.relu)\n",
        "    \n",
        "    def call(self, encoded):\n",
        "        activation = self.output_layer(encoded)\n",
        "        return activation"
      ],
      "execution_count": null,
      "outputs": []
    },
    {
      "cell_type": "markdown",
      "metadata": {
        "id": "0InDxCce6_x4",
        "colab_type": "text"
      },
      "source": [
        "# Autoenocoder"
      ]
    },
    {
      "cell_type": "code",
      "metadata": {
        "id": "dwVfhx5i6_x7",
        "colab_type": "code",
        "colab": {}
      },
      "source": [
        "class Autoencoder(k.Model):\n",
        "    def __init__(self,hidden_dim,original_dim):\n",
        "        super(Autoencoder,self).__init__()\n",
        "        self.loss = []\n",
        "        self.encoder = Encoder(hidden_dim = hidden_dim)\n",
        "        self.decoder = Decoder(hidden_dim=hidden_dim,original_dim=original_dim)\n",
        "    \n",
        "    def call(self,input_features):\n",
        "        encoded = self.encoder(input_features)\n",
        "        reconstructed =self.decoder(encoded)\n",
        "        return reconstructed\n",
        "        "
      ],
      "execution_count": null,
      "outputs": []
    },
    {
      "cell_type": "markdown",
      "metadata": {
        "id": "Kd_K6Jjw6_yO",
        "colab_type": "text"
      },
      "source": [
        "Now we instantiate our autoencoder model object and define the loss and optimizers\n",
        "to be used for training"
      ]
    },
    {
      "cell_type": "code",
      "metadata": {
        "id": "-2aGzgBs6_yR",
        "colab_type": "code",
        "colab": {}
      },
      "source": [
        "autoencoder = Autoencoder(hidden_dim = hidden_dim,original_dim=original_dim)\n",
        "opt = tf.keras.optimizers.Adam(learning_rate=1e-2)\n",
        "def loss(preds,real):\n",
        "    return tf.reduce_mean(tf.square(tf.subtract(preds,real)))"
      ],
      "execution_count": null,
      "outputs": []
    },
    {
      "cell_type": "markdown",
      "metadata": {
        "id": "C6021Lg-6_yl",
        "colab_type": "text"
      },
      "source": [
        "Instead of using the auto-training loop, for our custom autoencoder model we will\n",
        "define a custom training. We use tf.GradientTape to record the gradients as they\n",
        "are calculated and implicitly apply the gradients to all the trainable variables of\n",
        "our model"
      ]
    },
    {
      "cell_type": "code",
      "metadata": {
        "id": "X-3k6cod6_yn",
        "colab_type": "code",
        "colab": {}
      },
      "source": [
        "def train(loss, model, opt, original):\n",
        "    with tf.GradientTape() as tape:\n",
        "        preds = model(original)\n",
        "        reconstruction_error = loss(preds, original)\n",
        "    gradients = tape.gradient(reconstruction_error, model.trainable_variables)\n",
        "    gradient_variables = zip(gradients, model.trainable_variables)\n",
        "    opt.apply_gradients(gradient_variables)\n",
        "  \n",
        "    return reconstruction_error"
      ],
      "execution_count": null,
      "outputs": []
    },
    {
      "cell_type": "code",
      "metadata": {
        "id": "UdorIPf46_y1",
        "colab_type": "code",
        "colab": {}
      },
      "source": [
        "def train_loop(model, opt, loss, dataset, epochs=20):\n",
        "    for epoch in range(epochs):\n",
        "        epoch_loss = 0\n",
        "        for step, batch_features in enumerate(dataset):\n",
        "            loss_values = train(loss, model, opt, batch_features)\n",
        "            epoch_loss += loss_values\n",
        "        model.loss.append(epoch_loss)\n",
        "        print('Epoch {}/{}. Loss: {}'.format(epoch + 1, epochs, epoch_loss.numpy()))"
      ],
      "execution_count": null,
      "outputs": []
    },
    {
      "cell_type": "code",
      "metadata": {
        "id": "puQ-7BT-6_zI",
        "colab_type": "code",
        "colab": {
          "base_uri": "https://localhost:8080/",
          "height": 972
        },
        "outputId": "f3fd81a2-fda5-4ce9-dedd-1e45ea37e1f5"
      },
      "source": [
        "autoencoder = Autoencoder(hidden_dim=hidden_dim, original_dim=original_dim)\n",
        "opt = tf.keras.optimizers.Adam(learning_rate=1e-2)\n",
        "\n",
        "train_loop(autoencoder, opt, loss, training_dataset, epochs=max_epochs)"
      ],
      "execution_count": null,
      "outputs": [
        {
          "output_type": "stream",
          "text": [
            "Epoch 1/50. Loss: 4.824968338012695\n",
            "Epoch 2/50. Loss: 2.936595916748047\n",
            "Epoch 3/50. Loss: 2.817255735397339\n",
            "Epoch 4/50. Loss: 2.8035571575164795\n",
            "Epoch 5/50. Loss: 2.786447048187256\n",
            "Epoch 6/50. Loss: 2.7395381927490234\n",
            "Epoch 7/50. Loss: 2.7305212020874023\n",
            "Epoch 8/50. Loss: 2.7181499004364014\n",
            "Epoch 9/50. Loss: 2.7110395431518555\n",
            "Epoch 10/50. Loss: 2.71226167678833\n",
            "Epoch 11/50. Loss: 2.6913347244262695\n",
            "Epoch 12/50. Loss: 2.69667649269104\n",
            "Epoch 13/50. Loss: 2.6892459392547607\n",
            "Epoch 14/50. Loss: 2.7182328701019287\n",
            "Epoch 15/50. Loss: 2.6995174884796143\n",
            "Epoch 16/50. Loss: 2.694401502609253\n",
            "Epoch 17/50. Loss: 2.690089225769043\n",
            "Epoch 18/50. Loss: 2.717951774597168\n",
            "Epoch 19/50. Loss: 2.698357105255127\n",
            "Epoch 20/50. Loss: 2.711487054824829\n",
            "Epoch 21/50. Loss: 2.6884233951568604\n",
            "Epoch 22/50. Loss: 2.6892600059509277\n",
            "Epoch 23/50. Loss: 2.687645673751831\n",
            "Epoch 24/50. Loss: 2.7159786224365234\n",
            "Epoch 25/50. Loss: 2.671239137649536\n",
            "Epoch 26/50. Loss: 2.6984610557556152\n",
            "Epoch 27/50. Loss: 2.67547869682312\n",
            "Epoch 28/50. Loss: 2.697828531265259\n",
            "Epoch 29/50. Loss: 2.7031846046447754\n",
            "Epoch 30/50. Loss: 2.690433979034424\n",
            "Epoch 31/50. Loss: 2.68007755279541\n",
            "Epoch 32/50. Loss: 2.7001850605010986\n",
            "Epoch 33/50. Loss: 2.6748692989349365\n",
            "Epoch 34/50. Loss: 2.696500062942505\n",
            "Epoch 35/50. Loss: 2.6820099353790283\n",
            "Epoch 36/50. Loss: 2.6860899925231934\n",
            "Epoch 37/50. Loss: 2.691709041595459\n",
            "Epoch 38/50. Loss: 2.686617851257324\n",
            "Epoch 39/50. Loss: 2.686997413635254\n",
            "Epoch 40/50. Loss: 2.6879687309265137\n",
            "Epoch 41/50. Loss: 2.6765005588531494\n",
            "Epoch 42/50. Loss: 2.699963331222534\n",
            "Epoch 43/50. Loss: 2.6661369800567627\n",
            "Epoch 44/50. Loss: 2.685577154159546\n",
            "Epoch 45/50. Loss: 2.6662168502807617\n",
            "Epoch 46/50. Loss: 2.6904373168945312\n",
            "Epoch 47/50. Loss: 2.665585994720459\n",
            "Epoch 48/50. Loss: 2.6671500205993652\n",
            "Epoch 49/50. Loss: 2.719935417175293\n",
            "Epoch 50/50. Loss: 2.6718332767486572\n"
          ],
          "name": "stdout"
        }
      ]
    },
    {
      "cell_type": "code",
      "metadata": {
        "id": "dknIJzt96_zp",
        "colab_type": "code",
        "colab": {
          "base_uri": "https://localhost:8080/",
          "height": 279
        },
        "outputId": "fd00cd9b-57c6-4c00-a9d3-68f9bcde3180"
      },
      "source": [
        "plt.plot(range(max_epochs), autoencoder.loss)\n",
        "plt.xlabel('Epochs')\n",
        "plt.ylabel('Loss')\n",
        "plt.show()"
      ],
      "execution_count": null,
      "outputs": [
        {
          "output_type": "display_data",
          "data": {
            "image/png": "[encoded data removed]",
            "text/plain": [
              "<Figure size 432x288 with 1 Axes>"
            ]
          },
          "metadata": {
            "tags": [],
            "needs_background": "light"
          }
        }
      ]
    },
    {
      "cell_type": "code",
      "metadata": {
        "id": "7tMDsNcz6_z3",
        "colab_type": "code",
        "colab": {
          "base_uri": "https://localhost:8080/",
          "height": 183
        },
        "outputId": "99874393-ad7f-4af9-b3e0-979c84aeadaa"
      },
      "source": [
        "number = 10  # how many digits we will display\n",
        "plt.figure(figsize=(20, 4))\n",
        "for index in range(number):\n",
        "    # display original\n",
        "    ax = plt.subplot(2, number, index + 1)\n",
        "    plt.imshow(X_test[index].reshape(28, 28), cmap='gray')\n",
        "    ax.get_xaxis().set_visible(False)\n",
        "    ax.get_yaxis().set_visible(False)\n",
        "\n",
        "    # display reconstruction\n",
        "    ax = plt.subplot(2, number, index + 1 + number)\n",
        "    plt.imshow(autoencoder(X_test)[index].numpy().reshape(28, 28), cmap='gray')\n",
        "    ax.get_xaxis().set_visible(False)\n",
        "    ax.get_yaxis().set_visible(False)\n",
        "plt.show()"
      ],
      "execution_count": null,
      "outputs": [
        {
          "output_type": "display_data",
          "data": {
            "image/png": "[encoded data removed]",
            "text/plain": [
              "<Figure size 1440x288 with 20 Axes>"
            ]
          },
          "metadata": {
            "tags": [],
            "needs_background": "light"
          }
        }
      ]
    },
    {
      "cell_type": "code",
      "metadata": {
        "id": "uAXj4sVc9rsR",
        "colab_type": "code",
        "colab": {}
      },
      "source": [
        ""
      ],
      "execution_count": null,
      "outputs": []
    },
    {
      "cell_type": "code",
      "metadata": {
        "id": "GgTRO_P89m4l",
        "colab_type": "code",
        "colab": {}
      },
      "source": [
        ""
      ],
      "execution_count": null,
      "outputs": []
    },
    {
      "cell_type": "code",
      "metadata": {
        "id": "R3J3JEdL9hqZ",
        "colab_type": "code",
        "colab": {}
      },
      "source": [
        ""
      ],
      "execution_count": null,
      "outputs": []
    },
    {
      "cell_type": "code",
      "metadata": {
        "id": "6KgpF71J9doW",
        "colab_type": "code",
        "colab": {}
      },
      "source": [
        ""
      ],
      "execution_count": null,
      "outputs": []
    },
    {
      "cell_type": "code",
      "metadata": {
        "id": "vgflaPtY6_0G",
        "colab_type": "code",
        "colab": {}
      },
      "source": [
        ""
      ],
      "execution_count": null,
      "outputs": []
    },
    {
      "cell_type": "code",
      "metadata": {
        "id": "tAhXC25_6_0U",
        "colab_type": "code",
        "colab": {}
      },
      "source": [
        ""
      ],
      "execution_count": null,
      "outputs": []
    },
    {
      "cell_type": "code",
      "metadata": {
        "id": "lz7yIQFL6_0e",
        "colab_type": "code",
        "colab": {}
      },
      "source": [
        ""
      ],
      "execution_count": null,
      "outputs": []
    },
    {
      "cell_type": "code",
      "metadata": {
        "id": "nvSm8_f26_0o",
        "colab_type": "code",
        "colab": {}
      },
      "source": [
        ""
      ],
      "execution_count": null,
      "outputs": []
    },
    {
      "cell_type": "code",
      "metadata": {
        "id": "PfR7U4Nv6_02",
        "colab_type": "code",
        "colab": {}
      },
      "source": [
        ""
      ],
      "execution_count": null,
      "outputs": []
    },
    {
      "cell_type": "code",
      "metadata": {
        "id": "GDAJhsqB6_1F",
        "colab_type": "code",
        "colab": {}
      },
      "source": [
        ""
      ],
      "execution_count": null,
      "outputs": []
    },
    {
      "cell_type": "code",
      "metadata": {
        "id": "-OaN55kV6_1Q",
        "colab_type": "code",
        "colab": {}
      },
      "source": [
        ""
      ],
      "execution_count": null,
      "outputs": []
    },
    {
      "cell_type": "code",
      "metadata": {
        "id": "EvMmn11F6_1c",
        "colab_type": "code",
        "colab": {}
      },
      "source": [
        ""
      ],
      "execution_count": null,
      "outputs": []
    },
    {
      "cell_type": "code",
      "metadata": {
        "id": "QNktkCBh6_1m",
        "colab_type": "code",
        "colab": {}
      },
      "source": [
        ""
      ],
      "execution_count": null,
      "outputs": []
    },
    {
      "cell_type": "code",
      "metadata": {
        "id": "Tv2eO4t76_1v",
        "colab_type": "code",
        "colab": {}
      },
      "source": [
        ""
      ],
      "execution_count": null,
      "outputs": []
    },
    {
      "cell_type": "code",
      "metadata": {
        "id": "NsIbuz9A6_12",
        "colab_type": "code",
        "colab": {}
      },
      "source": [
        ""
      ],
      "execution_count": null,
      "outputs": []
    },
    {
      "cell_type": "code",
      "metadata": {
        "id": "ZSH3tVJ-6_2B",
        "colab_type": "code",
        "colab": {}
      },
      "source": [
        ""
      ],
      "execution_count": null,
      "outputs": []
    },
    {
      "cell_type": "code",
      "metadata": {
        "id": "yI51FRfG6_2T",
        "colab_type": "code",
        "colab": {}
      },
      "source": [
        ""
      ],
      "execution_count": null,
      "outputs": []
    }
  ]
}