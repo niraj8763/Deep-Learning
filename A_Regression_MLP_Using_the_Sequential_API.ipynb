{
  "nbformat": 4,
  "nbformat_minor": 0,
  "metadata": {
    "colab": {
      "name": "A Regression MLP Using the Sequential API.ipynb",
      "provenance": [],
      "collapsed_sections": [],
      "authorship_tag": "ABX9TyOr4nEL47o1Uj3n/IqihSTu",
      "include_colab_link": true
    },
    "kernelspec": {
      "name": "python3",
      "display_name": "Python 3"
    }
  },
  "cells": [
    {
      "cell_type": "markdown",
      "metadata": {
        "id": "view-in-github",
        "colab_type": "text"
      },
      "source": [
        "<a href=\"https://colab.research.google.com/github/niraj8763/Deep-Learning/blob/master/A_Regression_MLP_Using_the_Sequential_API.ipynb\" target=\"_parent\"><img src=\"https://colab.research.google.com/assets/colab-badge.svg\" alt=\"Open In Colab\"/></a>"
      ]
    },
    {
      "cell_type": "markdown",
      "metadata": {
        "id": "awj6g1m-vuKI",
        "colab_type": "text"
      },
      "source": [
        " A Regression MLP Using the Sequential API"
      ]
    },
    {
      "cell_type": "markdown",
      "metadata": {
        "id": "h1sm20gKv_dx",
        "colab_type": "text"
      },
      "source": [
        "Import libraries"
      ]
    },
    {
      "cell_type": "code",
      "metadata": {
        "id": "08m7RPVovxxc",
        "colab_type": "code",
        "colab": {}
      },
      "source": [
        "from sklearn.datasets import fetch_california_housing\n",
        "from sklearn.model_selection import train_test_split\n",
        "from sklearn.preprocessing import StandardScaler"
      ],
      "execution_count": 0,
      "outputs": []
    },
    {
      "cell_type": "code",
      "metadata": {
        "id": "ZN5q1c5gwE4R",
        "colab_type": "code",
        "colab": {}
      },
      "source": [
        "housing = fetch_california_housing()"
      ],
      "execution_count": 0,
      "outputs": []
    },
    {
      "cell_type": "markdown",
      "metadata": {
        "id": "fR7VNFNpwWD4",
        "colab_type": "text"
      },
      "source": [
        "Spliting the Dataset"
      ]
    },
    {
      "cell_type": "code",
      "metadata": {
        "id": "r6hvsT_cwU4_",
        "colab_type": "code",
        "colab": {}
      },
      "source": [
        "X_train_full, X_test, y_train_full, y_test = train_test_split(housing.data, housing.target)\n",
        "X_train, X_valid, y_train, y_valid = train_test_split(X_train_full, y_train_full)"
      ],
      "execution_count": 0,
      "outputs": []
    },
    {
      "cell_type": "code",
      "metadata": {
        "id": "SMKyubmEw5VO",
        "colab_type": "code",
        "outputId": "d399ddf7-cef4-4c94-9c64-928f6570123f",
        "colab": {
          "base_uri": "https://localhost:8080/",
          "height": 36
        }
      },
      "source": [
        "X_train.shape"
      ],
      "execution_count": 0,
      "outputs": [
        {
          "output_type": "execute_result",
          "data": {
            "text/plain": [
              "(11610, 8)"
            ]
          },
          "metadata": {
            "tags": []
          },
          "execution_count": 8
        }
      ]
    },
    {
      "cell_type": "code",
      "metadata": {
        "id": "pdJLXVZ_xIut",
        "colab_type": "code",
        "outputId": "d392b11c-4f97-4a88-f3d7-0b95c59f24fb",
        "colab": {
          "base_uri": "https://localhost:8080/",
          "height": 36
        }
      },
      "source": [
        "y_train.shape"
      ],
      "execution_count": 0,
      "outputs": [
        {
          "output_type": "execute_result",
          "data": {
            "text/plain": [
              "(11610,)"
            ]
          },
          "metadata": {
            "tags": []
          },
          "execution_count": 9
        }
      ]
    },
    {
      "cell_type": "code",
      "metadata": {
        "id": "s9DIGgc7xLps",
        "colab_type": "code",
        "outputId": "955f2e41-e4d3-47e9-ca01-7730f232381c",
        "colab": {
          "base_uri": "https://localhost:8080/",
          "height": 36
        }
      },
      "source": [
        "X_test.shape"
      ],
      "execution_count": 0,
      "outputs": [
        {
          "output_type": "execute_result",
          "data": {
            "text/plain": [
              "(5160, 8)"
            ]
          },
          "metadata": {
            "tags": []
          },
          "execution_count": 10
        }
      ]
    },
    {
      "cell_type": "code",
      "metadata": {
        "id": "y0UgrOKJxU3X",
        "colab_type": "code",
        "outputId": "8280b218-b071-4fd6-c883-243dfbdb94b1",
        "colab": {
          "base_uri": "https://localhost:8080/",
          "height": 36
        }
      },
      "source": [
        "y_test.shape"
      ],
      "execution_count": 0,
      "outputs": [
        {
          "output_type": "execute_result",
          "data": {
            "text/plain": [
              "(5160,)"
            ]
          },
          "metadata": {
            "tags": []
          },
          "execution_count": 13
        }
      ]
    },
    {
      "cell_type": "markdown",
      "metadata": {
        "id": "ShF1trzbxkar",
        "colab_type": "text"
      },
      "source": [
        "Standardization"
      ]
    },
    {
      "cell_type": "code",
      "metadata": {
        "id": "Dp3exXG7xf63",
        "colab_type": "code",
        "colab": {}
      },
      "source": [
        "scaler = StandardScaler()\n",
        "X_train_scaled = scaler.fit_transform(X_train)\n",
        "X_valid_scaled = scaler.transform(X_valid)\n",
        "X_test_scaled = scaler.transform(X_test)"
      ],
      "execution_count": 0,
      "outputs": []
    },
    {
      "cell_type": "markdown",
      "metadata": {
        "id": "QjcFj3g-yLr5",
        "colab_type": "text"
      },
      "source": [
        "Sequential API Model"
      ]
    },
    {
      "cell_type": "code",
      "metadata": {
        "id": "ycxq0qx6xzES",
        "colab_type": "code",
        "colab": {}
      },
      "source": [
        "import keras\n",
        "from keras import models\n",
        "from keras import layers\n",
        "model = keras.models.Sequential([keras.layers.Dense(30,activation='relu',input_shape = X_train.shape[1:]),keras.layers.Dense(1)])"
      ],
      "execution_count": 0,
      "outputs": []
    },
    {
      "cell_type": "markdown",
      "metadata": {
        "id": "TMWofBeiz8SK",
        "colab_type": "text"
      },
      "source": [
        "Compile the model"
      ]
    },
    {
      "cell_type": "code",
      "metadata": {
        "id": "GJQiDdpfz3Mu",
        "colab_type": "code",
        "colab": {}
      },
      "source": [
        "model.compile(loss='mean_squared_error',optimizer='sgd')"
      ],
      "execution_count": 0,
      "outputs": []
    },
    {
      "cell_type": "markdown",
      "metadata": {
        "id": "XW7bQSJO0VIC",
        "colab_type": "text"
      },
      "source": [
        "fit the dataset"
      ]
    },
    {
      "cell_type": "code",
      "metadata": {
        "id": "l-WOOQsc0UFo",
        "colab_type": "code",
        "outputId": "d1fa36ff-6a53-4b11-ac83-432d7bc9f90a",
        "colab": {
          "base_uri": "https://localhost:8080/",
          "height": 800
        }
      },
      "source": [
        "history= model.fit(X_train,y_train,epochs=20,validation_data=(X_valid,y_valid))"
      ],
      "execution_count": 0,
      "outputs": [
        {
          "output_type": "stream",
          "text": [
            "Train on 11610 samples, validate on 3870 samples\n",
            "Epoch 1/20\n",
            "11610/11610 [==============================] - 1s 55us/step - loss: nan - val_loss: nan\n",
            "Epoch 2/20\n",
            "11610/11610 [==============================] - 0s 36us/step - loss: nan - val_loss: nan\n",
            "Epoch 3/20\n",
            "11610/11610 [==============================] - 0s 35us/step - loss: nan - val_loss: nan\n",
            "Epoch 4/20\n",
            "11610/11610 [==============================] - 0s 35us/step - loss: nan - val_loss: nan\n",
            "Epoch 5/20\n",
            "11610/11610 [==============================] - 0s 34us/step - loss: nan - val_loss: nan\n",
            "Epoch 6/20\n",
            "11610/11610 [==============================] - 0s 34us/step - loss: nan - val_loss: nan\n",
            "Epoch 7/20\n",
            "11610/11610 [==============================] - 0s 35us/step - loss: nan - val_loss: nan\n",
            "Epoch 8/20\n",
            "11610/11610 [==============================] - 0s 34us/step - loss: nan - val_loss: nan\n",
            "Epoch 9/20\n",
            "11610/11610 [==============================] - 0s 34us/step - loss: nan - val_loss: nan\n",
            "Epoch 10/20\n",
            "11610/11610 [==============================] - 0s 35us/step - loss: nan - val_loss: nan\n",
            "Epoch 11/20\n",
            "11610/11610 [==============================] - 0s 34us/step - loss: nan - val_loss: nan\n",
            "Epoch 12/20\n",
            "11610/11610 [==============================] - 0s 34us/step - loss: nan - val_loss: nan\n",
            "Epoch 13/20\n",
            "11610/11610 [==============================] - 0s 36us/step - loss: nan - val_loss: nan\n",
            "Epoch 14/20\n",
            "11610/11610 [==============================] - 0s 39us/step - loss: nan - val_loss: nan\n",
            "Epoch 15/20\n",
            "11610/11610 [==============================] - 0s 36us/step - loss: nan - val_loss: nan\n",
            "Epoch 16/20\n",
            "11610/11610 [==============================] - 0s 39us/step - loss: nan - val_loss: nan\n",
            "Epoch 17/20\n",
            "11610/11610 [==============================] - 0s 36us/step - loss: nan - val_loss: nan\n",
            "Epoch 18/20\n",
            "11610/11610 [==============================] - 0s 34us/step - loss: nan - val_loss: nan\n",
            "Epoch 19/20\n",
            "11610/11610 [==============================] - 0s 34us/step - loss: nan - val_loss: nan\n",
            "Epoch 20/20\n",
            "11610/11610 [==============================] - 0s 34us/step - loss: nan - val_loss: nan\n"
          ],
          "name": "stdout"
        }
      ]
    },
    {
      "cell_type": "markdown",
      "metadata": {
        "id": "C0ioLrbS008f",
        "colab_type": "text"
      },
      "source": [
        "Evalution"
      ]
    },
    {
      "cell_type": "code",
      "metadata": {
        "id": "zWFZiZ1D0vt3",
        "colab_type": "code",
        "outputId": "0ef9b20a-7707-4d90-d263-b2c8907699f1",
        "colab": {
          "base_uri": "https://localhost:8080/",
          "height": 36
        }
      },
      "source": [
        "mse_test = model.evaluate(X_test,y_test)"
      ],
      "execution_count": 0,
      "outputs": [
        {
          "output_type": "stream",
          "text": [
            "5160/5160 [==============================] - 0s 19us/step\n"
          ],
          "name": "stdout"
        }
      ]
    },
    {
      "cell_type": "markdown",
      "metadata": {
        "id": "SXdrN1R21JQk",
        "colab_type": "text"
      },
      "source": [
        "Prediction on new data"
      ]
    },
    {
      "cell_type": "code",
      "metadata": {
        "id": "j4mELWq01EHw",
        "colab_type": "code",
        "outputId": "fe236b95-6ac3-4a2c-beae-5fb5064bbb3f",
        "colab": {
          "base_uri": "https://localhost:8080/",
          "height": 208
        }
      },
      "source": [
        "X_new = X_test[:10]\n",
        "y_pred = model.predict(X_new)\n",
        "y_pred"
      ],
      "execution_count": 0,
      "outputs": [
        {
          "output_type": "execute_result",
          "data": {
            "text/plain": [
              "array([[nan],\n",
              "       [nan],\n",
              "       [nan],\n",
              "       [nan],\n",
              "       [nan],\n",
              "       [nan],\n",
              "       [nan],\n",
              "       [nan],\n",
              "       [nan],\n",
              "       [nan]], dtype=float32)"
            ]
          },
          "metadata": {
            "tags": []
          },
          "execution_count": 20
        }
      ]
    },
    {
      "cell_type": "code",
      "metadata": {
        "id": "9qHVfH6B1lBa",
        "colab_type": "code",
        "colab": {}
      },
      "source": [
        ""
      ],
      "execution_count": 0,
      "outputs": []
    },
    {
      "cell_type": "code",
      "metadata": {
        "id": "xCi9OqlF1ajQ",
        "colab_type": "code",
        "colab": {}
      },
      "source": [
        ""
      ],
      "execution_count": 0,
      "outputs": []
    }
  ]
}